{
 "cells": [
  {
   "cell_type": "code",
   "execution_count": 2,
   "metadata": {},
   "outputs": [],
   "source": [
    "from keras.preprocessing.text import one_hot\n",
    "from keras.preprocessing.sequence import pad_sequences"
   ]
  },
  {
   "cell_type": "code",
   "execution_count": 3,
   "metadata": {},
   "outputs": [],
   "source": [
    "# define documents\n",
    "docs = ['Well done!',\n",
    "'Good work',\n",
    "'Great effort',\n",
    "'nice work',\n",
    "'Excellent!',\n",
    "'Weak',\n",
    "'Poor effort!',\n",
    "'not good',\n",
    "'poor work',\n",
    "'Could have done better.']\n",
    "# define class labels\n",
    "labels = [1,1,1,1,1,0,0,0,0,0]"
   ]
  },
  {
   "cell_type": "code",
   "execution_count": 6,
   "metadata": {},
   "outputs": [
    {
     "name": "stdout",
     "output_type": "stream",
     "text": [
      "[[25, 36], [67, 72], [82, 5], [47, 72], [25], [15], [80, 5], [71, 67], [80, 72], [33, 37, 36, 84]]\n"
     ]
    }
   ],
   "source": [
    "# integer encode the documents\n",
    "vocab_size = 100\n",
    "encoded_docs = [one_hot(d, vocab_size) for d in docs]\n",
    "print(encoded_docs)"
   ]
  },
  {
   "cell_type": "code",
   "execution_count": 9,
   "metadata": {},
   "outputs": [
    {
     "name": "stdout",
     "output_type": "stream",
     "text": [
      "[[25 36  0  0]\n",
      " [67 72  0  0]\n",
      " [82  5  0  0]\n",
      " [47 72  0  0]\n",
      " [25  0  0  0]\n",
      " [15  0  0  0]\n",
      " [80  5  0  0]\n",
      " [71 67  0  0]\n",
      " [80 72  0  0]\n",
      " [33 37 36 84]]\n"
     ]
    }
   ],
   "source": [
    "# pad documents to a max length of 4 words\n",
    "max_length = 4\n",
    "padded_docs = pad_sequences(encoded_docs, maxlen=max_length, padding='post')\n",
    "print(padded_docs)"
   ]
  },
  {
   "cell_type": "code",
   "execution_count": 58,
   "metadata": {},
   "outputs": [],
   "source": [
    "import tensorflow as tf\n",
    "from tensorflow import keras\n",
    "from tensorflow.keras.models import Sequential"
   ]
  },
  {
   "cell_type": "code",
   "execution_count": 59,
   "metadata": {},
   "outputs": [],
   "source": [
    "from tensorflow.keras import layers"
   ]
  },
  {
   "cell_type": "code",
   "execution_count": 60,
   "metadata": {},
   "outputs": [],
   "source": [
    "# define the model\n",
    "model = tf.keras.Sequential()\n",
    "model.add(layers.Embedding(vocab_size, 8, input_length=max_length))\n",
    "model.add(layers.Flatten())\n",
    "model.add(layers.Dense(1, activation='sigmoid'))\n"
   ]
  },
  {
   "cell_type": "code",
   "execution_count": 61,
   "metadata": {},
   "outputs": [],
   "source": [
    "import numpy as np\n",
    "labels=np.array(labels)"
   ]
  },
  {
   "cell_type": "code",
   "execution_count": 63,
   "metadata": {},
   "outputs": [
    {
     "name": "stdout",
     "output_type": "stream",
     "text": [
      "Model: \"sequential_13\"\n",
      "_________________________________________________________________\n",
      "Layer (type)                 Output Shape              Param #   \n",
      "=================================================================\n",
      "embedding_9 (Embedding)      (None, 4, 8)              400       \n",
      "_________________________________________________________________\n",
      "flatten_2 (Flatten)          (None, 32)                0         \n",
      "_________________________________________________________________\n",
      "dense_2 (Dense)              (None, 1)                 33        \n",
      "=================================================================\n",
      "Total params: 433\n",
      "Trainable params: 433\n",
      "Non-trainable params: 0\n",
      "_________________________________________________________________\n",
      "Train on 10 samples\n",
      "Epoch 1/100\n",
      "WARNING:tensorflow:Entity <function Function._initialize_uninitialized_variables.<locals>.initialize_variables at 0x00000178A08376A8> could not be transformed and will be executed as-is. Please report this to the AutoGraph team. When filing the bug, set the verbosity to 10 (on Linux, `export AUTOGRAPH_VERBOSITY=10`) and attach the full output. Cause: Unable to locate the source code of <function Function._initialize_uninitialized_variables.<locals>.initialize_variables at 0x00000178A08376A8>. Note that functions defined in certain environments, like the interactive Python shell do not expose their source code. If that is the case, you should to define them in a .py source file. If you are certain the code is graph-compatible, wrap the call using @tf.autograph.do_not_convert. Original error: could not get source code\n",
      "WARNING: Entity <function Function._initialize_uninitialized_variables.<locals>.initialize_variables at 0x00000178A08376A8> could not be transformed and will be executed as-is. Please report this to the AutoGraph team. When filing the bug, set the verbosity to 10 (on Linux, `export AUTOGRAPH_VERBOSITY=10`) and attach the full output. Cause: Unable to locate the source code of <function Function._initialize_uninitialized_variables.<locals>.initialize_variables at 0x00000178A08376A8>. Note that functions defined in certain environments, like the interactive Python shell do not expose their source code. If that is the case, you should to define them in a .py source file. If you are certain the code is graph-compatible, wrap the call using @tf.autograph.do_not_convert. Original error: could not get source code\n",
      "10/10 - 1s - loss: 0.6319 - acc: 0.8000\n",
      "Epoch 2/100\n",
      "10/10 - 0s - loss: 0.6305 - acc: 0.8000\n",
      "Epoch 3/100\n",
      "10/10 - 0s - loss: 0.6291 - acc: 0.8000\n",
      "Epoch 4/100\n",
      "10/10 - 0s - loss: 0.6277 - acc: 0.8000\n",
      "Epoch 5/100\n",
      "10/10 - 0s - loss: 0.6263 - acc: 0.8000\n",
      "Epoch 6/100\n",
      "10/10 - 0s - loss: 0.6248 - acc: 0.8000\n",
      "Epoch 7/100\n",
      "10/10 - 0s - loss: 0.6234 - acc: 0.8000\n",
      "Epoch 8/100\n",
      "10/10 - 0s - loss: 0.6220 - acc: 0.8000\n",
      "Epoch 9/100\n",
      "10/10 - 0s - loss: 0.6206 - acc: 0.8000\n",
      "Epoch 10/100\n",
      "10/10 - 0s - loss: 0.6191 - acc: 0.8000\n",
      "Epoch 11/100\n",
      "10/10 - 0s - loss: 0.6177 - acc: 0.8000\n",
      "Epoch 12/100\n",
      "10/10 - 0s - loss: 0.6162 - acc: 0.8000\n",
      "Epoch 13/100\n",
      "10/10 - 0s - loss: 0.6148 - acc: 0.8000\n",
      "Epoch 14/100\n",
      "10/10 - 0s - loss: 0.6133 - acc: 0.8000\n",
      "Epoch 15/100\n",
      "10/10 - 0s - loss: 0.6119 - acc: 0.8000\n",
      "Epoch 16/100\n",
      "10/10 - 0s - loss: 0.6104 - acc: 0.8000\n",
      "Epoch 17/100\n",
      "10/10 - 0s - loss: 0.6089 - acc: 0.8000\n",
      "Epoch 18/100\n",
      "10/10 - 0s - loss: 0.6075 - acc: 0.8000\n",
      "Epoch 19/100\n",
      "10/10 - 0s - loss: 0.6060 - acc: 0.8000\n",
      "Epoch 20/100\n",
      "10/10 - 0s - loss: 0.6045 - acc: 0.8000\n",
      "Epoch 21/100\n",
      "10/10 - 0s - loss: 0.6030 - acc: 0.8000\n",
      "Epoch 22/100\n",
      "10/10 - 0s - loss: 0.6015 - acc: 0.8000\n",
      "Epoch 23/100\n",
      "10/10 - 0s - loss: 0.6001 - acc: 0.8000\n",
      "Epoch 24/100\n",
      "10/10 - 0s - loss: 0.5986 - acc: 0.8000\n",
      "Epoch 25/100\n",
      "10/10 - 0s - loss: 0.5971 - acc: 0.8000\n",
      "Epoch 26/100\n",
      "10/10 - 0s - loss: 0.5955 - acc: 0.8000\n",
      "Epoch 27/100\n",
      "10/10 - 0s - loss: 0.5940 - acc: 0.8000\n",
      "Epoch 28/100\n",
      "10/10 - 0s - loss: 0.5925 - acc: 0.8000\n",
      "Epoch 29/100\n",
      "10/10 - 0s - loss: 0.5910 - acc: 0.8000\n",
      "Epoch 30/100\n",
      "10/10 - 0s - loss: 0.5895 - acc: 0.8000\n",
      "Epoch 31/100\n",
      "10/10 - 0s - loss: 0.5879 - acc: 0.8000\n",
      "Epoch 32/100\n",
      "10/10 - 0s - loss: 0.5864 - acc: 0.8000\n",
      "Epoch 33/100\n",
      "10/10 - 0s - loss: 0.5849 - acc: 0.8000\n",
      "Epoch 34/100\n",
      "10/10 - 0s - loss: 0.5833 - acc: 0.8000\n",
      "Epoch 35/100\n",
      "10/10 - 0s - loss: 0.5818 - acc: 0.8000\n",
      "Epoch 36/100\n",
      "10/10 - 0s - loss: 0.5802 - acc: 0.8000\n",
      "Epoch 37/100\n",
      "10/10 - 0s - loss: 0.5787 - acc: 0.8000\n",
      "Epoch 38/100\n",
      "10/10 - 0s - loss: 0.5771 - acc: 0.8000\n",
      "Epoch 39/100\n",
      "10/10 - 0s - loss: 0.5755 - acc: 0.8000\n",
      "Epoch 40/100\n",
      "10/10 - 0s - loss: 0.5739 - acc: 0.8000\n",
      "Epoch 41/100\n",
      "10/10 - 0s - loss: 0.5724 - acc: 0.8000\n",
      "Epoch 42/100\n",
      "10/10 - 0s - loss: 0.5708 - acc: 0.8000\n",
      "Epoch 43/100\n",
      "10/10 - 0s - loss: 0.5692 - acc: 0.8000\n",
      "Epoch 44/100\n",
      "10/10 - 0s - loss: 0.5676 - acc: 0.8000\n",
      "Epoch 45/100\n",
      "10/10 - 0s - loss: 0.5660 - acc: 0.8000\n",
      "Epoch 46/100\n",
      "10/10 - 0s - loss: 0.5644 - acc: 0.8000\n",
      "Epoch 47/100\n",
      "10/10 - 0s - loss: 0.5627 - acc: 0.8000\n",
      "Epoch 48/100\n",
      "10/10 - 0s - loss: 0.5611 - acc: 0.8000\n",
      "Epoch 49/100\n",
      "10/10 - 0s - loss: 0.5595 - acc: 0.8000\n",
      "Epoch 50/100\n",
      "10/10 - 0s - loss: 0.5578 - acc: 0.8000\n",
      "Epoch 51/100\n",
      "10/10 - 0s - loss: 0.5562 - acc: 0.8000\n",
      "Epoch 52/100\n",
      "10/10 - 0s - loss: 0.5546 - acc: 0.8000\n",
      "Epoch 53/100\n",
      "10/10 - 0s - loss: 0.5529 - acc: 0.8000\n",
      "Epoch 54/100\n",
      "10/10 - 0s - loss: 0.5512 - acc: 0.8000\n",
      "Epoch 55/100\n",
      "10/10 - 0s - loss: 0.5496 - acc: 0.8000\n",
      "Epoch 56/100\n",
      "10/10 - 0s - loss: 0.5479 - acc: 0.8000\n",
      "Epoch 57/100\n",
      "10/10 - 0s - loss: 0.5462 - acc: 0.8000\n",
      "Epoch 58/100\n",
      "10/10 - 0s - loss: 0.5446 - acc: 0.8000\n",
      "Epoch 59/100\n",
      "10/10 - 0s - loss: 0.5429 - acc: 0.8000\n",
      "Epoch 60/100\n",
      "10/10 - 0s - loss: 0.5412 - acc: 0.8000\n",
      "Epoch 61/100\n",
      "10/10 - 0s - loss: 0.5395 - acc: 0.8000\n",
      "Epoch 62/100\n",
      "10/10 - 0s - loss: 0.5378 - acc: 0.8000\n",
      "Epoch 63/100\n",
      "10/10 - 0s - loss: 0.5361 - acc: 0.8000\n",
      "Epoch 64/100\n",
      "10/10 - 0s - loss: 0.5344 - acc: 0.8000\n",
      "Epoch 65/100\n",
      "10/10 - 0s - loss: 0.5326 - acc: 0.8000\n",
      "Epoch 66/100\n",
      "10/10 - 0s - loss: 0.5309 - acc: 0.8000\n",
      "Epoch 67/100\n",
      "10/10 - 0s - loss: 0.5292 - acc: 0.8000\n",
      "Epoch 68/100\n",
      "10/10 - 0s - loss: 0.5274 - acc: 0.8000\n",
      "Epoch 69/100\n",
      "10/10 - 0s - loss: 0.5257 - acc: 0.8000\n",
      "Epoch 70/100\n",
      "10/10 - 0s - loss: 0.5240 - acc: 0.8000\n",
      "Epoch 71/100\n",
      "10/10 - 0s - loss: 0.5222 - acc: 0.8000\n",
      "Epoch 72/100\n",
      "10/10 - 0s - loss: 0.5205 - acc: 0.8000\n",
      "Epoch 73/100\n",
      "10/10 - 0s - loss: 0.5187 - acc: 0.8000\n",
      "Epoch 74/100\n",
      "10/10 - 0s - loss: 0.5169 - acc: 0.8000\n",
      "Epoch 75/100\n",
      "10/10 - 0s - loss: 0.5152 - acc: 0.8000\n",
      "Epoch 76/100\n",
      "10/10 - 0s - loss: 0.5134 - acc: 0.8000\n",
      "Epoch 77/100\n",
      "10/10 - 0s - loss: 0.5116 - acc: 0.9000\n",
      "Epoch 78/100\n",
      "10/10 - 0s - loss: 0.5099 - acc: 0.9000\n",
      "Epoch 79/100\n",
      "10/10 - 0s - loss: 0.5081 - acc: 0.9000\n",
      "Epoch 80/100\n",
      "10/10 - 0s - loss: 0.5063 - acc: 0.9000\n",
      "Epoch 81/100\n",
      "10/10 - 0s - loss: 0.5045 - acc: 0.9000\n",
      "Epoch 82/100\n",
      "10/10 - 0s - loss: 0.5027 - acc: 1.0000\n",
      "Epoch 83/100\n",
      "10/10 - 0s - loss: 0.5009 - acc: 1.0000\n",
      "Epoch 84/100\n",
      "10/10 - 0s - loss: 0.4991 - acc: 1.0000\n",
      "Epoch 85/100\n",
      "10/10 - 0s - loss: 0.4973 - acc: 1.0000\n",
      "Epoch 86/100\n",
      "10/10 - 0s - loss: 0.4955 - acc: 1.0000\n",
      "Epoch 87/100\n",
      "10/10 - 0s - loss: 0.4937 - acc: 1.0000\n",
      "Epoch 88/100\n",
      "10/10 - 0s - loss: 0.4919 - acc: 1.0000\n",
      "Epoch 89/100\n",
      "10/10 - 0s - loss: 0.4901 - acc: 1.0000\n",
      "Epoch 90/100\n",
      "10/10 - 0s - loss: 0.4882 - acc: 1.0000\n",
      "Epoch 91/100\n",
      "10/10 - 0s - loss: 0.4864 - acc: 1.0000\n",
      "Epoch 92/100\n",
      "10/10 - 0s - loss: 0.4846 - acc: 1.0000\n",
      "Epoch 93/100\n",
      "10/10 - 0s - loss: 0.4828 - acc: 1.0000\n",
      "Epoch 94/100\n",
      "10/10 - 0s - loss: 0.4809 - acc: 1.0000\n",
      "Epoch 95/100\n",
      "10/10 - 0s - loss: 0.4791 - acc: 1.0000\n",
      "Epoch 96/100\n",
      "10/10 - 0s - loss: 0.4773 - acc: 1.0000\n",
      "Epoch 97/100\n",
      "10/10 - 0s - loss: 0.4754 - acc: 1.0000\n",
      "Epoch 98/100\n",
      "10/10 - 0s - loss: 0.4736 - acc: 1.0000\n",
      "Epoch 99/100\n",
      "10/10 - 0s - loss: 0.4718 - acc: 1.0000\n",
      "Epoch 100/100\n",
      "10/10 - 0s - loss: 0.4699 - acc: 1.0000\n"
     ]
    },
    {
     "data": {
      "text/plain": [
       "<tensorflow.python.keras.callbacks.History at 0x178a05a9320>"
      ]
     },
     "execution_count": 63,
     "metadata": {},
     "output_type": "execute_result"
    }
   ],
   "source": [
    "# compile the model\n",
    "model.compile(optimizer='adam', loss='binary_crossentropy', metrics=['acc'])\n",
    "# summarize the model\n",
    "model.summary()\n",
    "# fit the model\n",
    "model.fit(padded_docs, labels, epochs=100, verbose=2)\n"
   ]
  },
  {
   "cell_type": "code",
   "execution_count": 64,
   "metadata": {},
   "outputs": [
    {
     "name": "stdout",
     "output_type": "stream",
     "text": [
      "Accuracy: 100.000000\n"
     ]
    }
   ],
   "source": [
    "# evaluate the model\n",
    "loss, accuracy = model.evaluate(padded_docs, labels, verbose=0)\n",
    "print('Accuracy: %f' % (accuracy*100))"
   ]
  },
  {
   "cell_type": "code",
   "execution_count": null,
   "metadata": {},
   "outputs": [],
   "source": []
  }
 ],
 "metadata": {
  "kernelspec": {
   "display_name": "Python 3",
   "language": "python",
   "name": "python3"
  },
  "language_info": {
   "codemirror_mode": {
    "name": "ipython",
    "version": 3
   },
   "file_extension": ".py",
   "mimetype": "text/x-python",
   "name": "python",
   "nbconvert_exporter": "python",
   "pygments_lexer": "ipython3",
   "version": "3.7.9"
  }
 },
 "nbformat": 4,
 "nbformat_minor": 2
}
