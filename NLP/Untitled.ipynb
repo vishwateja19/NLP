{
 "cells": [
  {
   "cell_type": "code",
   "execution_count": 1,
   "id": "b836127f",
   "metadata": {},
   "outputs": [
    {
     "name": "stdout",
     "output_type": "stream",
     "text": [
      "Requirement already satisfied: nltk in c:\\users\\vishwateja\\anaconda3\\envs\\lig\\lib\\site-packages (3.8)\n",
      "Requirement already satisfied: click in c:\\users\\vishwateja\\anaconda3\\envs\\lig\\lib\\site-packages (from nltk) (8.1.3)\n",
      "Requirement already satisfied: regex>=2021.8.3 in c:\\users\\vishwateja\\anaconda3\\envs\\lig\\lib\\site-packages (from nltk) (2022.10.31)\n",
      "Requirement already satisfied: tqdm in c:\\users\\vishwateja\\anaconda3\\envs\\lig\\lib\\site-packages (from nltk) (4.64.1)\n",
      "Requirement already satisfied: joblib in c:\\users\\vishwateja\\anaconda3\\envs\\lig\\lib\\site-packages (from nltk) (1.2.0)\n",
      "Requirement already satisfied: colorama in c:\\users\\vishwateja\\anaconda3\\envs\\lig\\lib\\site-packages (from click->nltk) (0.4.5)\n"
     ]
    }
   ],
   "source": [
    "!pip install nltk"
   ]
  },
  {
   "cell_type": "code",
   "execution_count": 2,
   "id": "902104f6",
   "metadata": {},
   "outputs": [],
   "source": [
    "import nltk"
   ]
  },
  {
   "cell_type": "code",
   "execution_count": 3,
   "id": "f2e1d8c3",
   "metadata": {},
   "outputs": [],
   "source": [
    "## load text"
   ]
  },
  {
   "cell_type": "code",
   "execution_count": 4,
   "id": "d414a5cc",
   "metadata": {},
   "outputs": [],
   "source": [
    "text=\"\"\"The bookkeepers have set their odds, gamblers have placed their bets and the experts have made their picks for Sunday’s World Cup final between Argentina and France, but their analysis of the matchup — focused on just the 22 players on the field — might not be considering a wild card: Argentina’s army of witches.\"\"\""
   ]
  },
  {
   "cell_type": "code",
   "execution_count": 5,
   "id": "7173d847",
   "metadata": {},
   "outputs": [
    {
     "data": {
      "text/plain": [
       "'The bookkeepers have set their odds, gamblers have placed their bets and the experts have made their picks for Sunday’s World Cup final between Argentina and France, but their analysis of the matchup — focused on just the 22 players on the field — might not be considering a wild card: Argentina’s army of witches.'"
      ]
     },
     "execution_count": 5,
     "metadata": {},
     "output_type": "execute_result"
    }
   ],
   "source": [
    "text"
   ]
  },
  {
   "cell_type": "code",
   "execution_count": 6,
   "id": "58318eb6",
   "metadata": {},
   "outputs": [],
   "source": [
    "from nltk.tokenize import sent_tokenize,word_tokenize"
   ]
  },
  {
   "cell_type": "code",
   "execution_count": 7,
   "id": "87ac6d4b",
   "metadata": {},
   "outputs": [],
   "source": [
    "## sentence\n",
    "\n",
    "sentence=sent_tokenize(text)"
   ]
  },
  {
   "cell_type": "code",
   "execution_count": 8,
   "id": "74232d4a",
   "metadata": {},
   "outputs": [
    {
     "data": {
      "text/plain": [
       "['The bookkeepers have set their odds, gamblers have placed their bets and the experts have made their picks for Sunday’s World Cup final between Argentina and France, but their analysis of the matchup — focused on just the 22 players on the field — might not be considering a wild card: Argentina’s army of witches.']"
      ]
     },
     "execution_count": 8,
     "metadata": {},
     "output_type": "execute_result"
    }
   ],
   "source": [
    "sentence"
   ]
  },
  {
   "cell_type": "code",
   "execution_count": 9,
   "id": "ce68dfae",
   "metadata": {},
   "outputs": [
    {
     "data": {
      "text/plain": [
       "1"
      ]
     },
     "execution_count": 9,
     "metadata": {},
     "output_type": "execute_result"
    }
   ],
   "source": [
    "len(sentence)"
   ]
  },
  {
   "cell_type": "code",
   "execution_count": 10,
   "id": "3b6e602c",
   "metadata": {},
   "outputs": [],
   "source": [
    "## word\n",
    "\n",
    "word=word_tokenize(text)"
   ]
  },
  {
   "cell_type": "code",
   "execution_count": 11,
   "id": "3582a39b",
   "metadata": {},
   "outputs": [
    {
     "data": {
      "text/plain": [
       "['The',\n",
       " 'bookkeepers',\n",
       " 'have',\n",
       " 'set',\n",
       " 'their',\n",
       " 'odds',\n",
       " ',',\n",
       " 'gamblers',\n",
       " 'have',\n",
       " 'placed',\n",
       " 'their',\n",
       " 'bets',\n",
       " 'and',\n",
       " 'the',\n",
       " 'experts',\n",
       " 'have',\n",
       " 'made',\n",
       " 'their',\n",
       " 'picks',\n",
       " 'for',\n",
       " 'Sunday',\n",
       " '’',\n",
       " 's',\n",
       " 'World',\n",
       " 'Cup',\n",
       " 'final',\n",
       " 'between',\n",
       " 'Argentina',\n",
       " 'and',\n",
       " 'France',\n",
       " ',',\n",
       " 'but',\n",
       " 'their',\n",
       " 'analysis',\n",
       " 'of',\n",
       " 'the',\n",
       " 'matchup',\n",
       " '—',\n",
       " 'focused',\n",
       " 'on',\n",
       " 'just',\n",
       " 'the',\n",
       " '22',\n",
       " 'players',\n",
       " 'on',\n",
       " 'the',\n",
       " 'field',\n",
       " '—',\n",
       " 'might',\n",
       " 'not',\n",
       " 'be',\n",
       " 'considering',\n",
       " 'a',\n",
       " 'wild',\n",
       " 'card',\n",
       " ':',\n",
       " 'Argentina',\n",
       " '’',\n",
       " 's',\n",
       " 'army',\n",
       " 'of',\n",
       " 'witches',\n",
       " '.']"
      ]
     },
     "execution_count": 11,
     "metadata": {},
     "output_type": "execute_result"
    }
   ],
   "source": [
    "word"
   ]
  },
  {
   "cell_type": "code",
   "execution_count": 12,
   "id": "14f4e207",
   "metadata": {},
   "outputs": [
    {
     "data": {
      "text/plain": [
       "63"
      ]
     },
     "execution_count": 12,
     "metadata": {},
     "output_type": "execute_result"
    }
   ],
   "source": [
    "len(word)"
   ]
  },
  {
   "cell_type": "code",
   "execution_count": 13,
   "id": "c65f9cf5",
   "metadata": {},
   "outputs": [],
   "source": [
    "## lowering the text\n",
    "\n",
    "lower_text=text.lower()"
   ]
  },
  {
   "cell_type": "code",
   "execution_count": 14,
   "id": "8956ad79",
   "metadata": {},
   "outputs": [
    {
     "data": {
      "text/plain": [
       "'the bookkeepers have set their odds, gamblers have placed their bets and the experts have made their picks for sunday’s world cup final between argentina and france, but their analysis of the matchup — focused on just the 22 players on the field — might not be considering a wild card: argentina’s army of witches.'"
      ]
     },
     "execution_count": 14,
     "metadata": {},
     "output_type": "execute_result"
    }
   ],
   "source": [
    "lower_text"
   ]
  },
  {
   "cell_type": "code",
   "execution_count": 15,
   "id": "0db10c24",
   "metadata": {},
   "outputs": [],
   "source": [
    "## preprocessing"
   ]
  },
  {
   "cell_type": "code",
   "execution_count": 16,
   "id": "24d43a59",
   "metadata": {},
   "outputs": [
    {
     "data": {
      "text/plain": [
       "'!\"#$%&\\'()*+,-./:;<=>?@[\\\\]^_`{|}~'"
      ]
     },
     "execution_count": 16,
     "metadata": {},
     "output_type": "execute_result"
    }
   ],
   "source": [
    "import string\n",
    "string.punctuation"
   ]
  },
  {
   "cell_type": "code",
   "execution_count": 17,
   "id": "15be3cb8",
   "metadata": {},
   "outputs": [
    {
     "data": {
      "text/plain": [
       "'the bookkeepers have set their odds, gamblers have placed their bets and the experts have made their picks for sunday’s world cup final between argentina and france, but their analysis of the matchup — focused on just the 22 players on the field — might not be considering a wild card: argentina’s army of witches.'"
      ]
     },
     "execution_count": 17,
     "metadata": {},
     "output_type": "execute_result"
    }
   ],
   "source": [
    "lower_text"
   ]
  },
  {
   "cell_type": "code",
   "execution_count": 18,
   "id": "531ba0c9",
   "metadata": {},
   "outputs": [
    {
     "name": "stdout",
     "output_type": "stream",
     "text": [
      "the bookkeepers have set their odds gamblers have placed their bets and the experts have made their picks for sunday’s world cup final between argentina and france but their analysis of the matchup — focused on just the 22 players on the field — might not be considering a wild card argentina’s army of witches\n"
     ]
    }
   ],
   "source": [
    "## removing punctuations\n",
    "\n",
    "cleaned_text=''.join([i for i in lower_text if i not in string.punctuation])\n",
    "print(cleaned_text)"
   ]
  },
  {
   "cell_type": "code",
   "execution_count": 19,
   "id": "7e3a629c",
   "metadata": {},
   "outputs": [
    {
     "name": "stdout",
     "output_type": "stream",
     "text": [
      "the bookkeepers have set their odds gamblers have placed their bets and the experts have made their picks for sunday’s world cup final between argentina and france but their analysis of the matchup — focused on just the 22 players on the field — might not be considering a wild card argentina’s army of witches\n"
     ]
    }
   ],
   "source": [
    "c=[]\n",
    "for i in text.lower():\n",
    "    if i not in string.punctuation:\n",
    "        c.append(i)\n",
    "print(''.join(c))        "
   ]
  },
  {
   "cell_type": "code",
   "execution_count": 20,
   "id": "f0333d5c",
   "metadata": {},
   "outputs": [],
   "source": [
    "## stopwords\n",
    "from nltk.corpus import stopwords"
   ]
  },
  {
   "cell_type": "code",
   "execution_count": 21,
   "id": "c29e03d3",
   "metadata": {},
   "outputs": [
    {
     "data": {
      "text/plain": [
       "['i',\n",
       " 'me',\n",
       " 'my',\n",
       " 'myself',\n",
       " 'we',\n",
       " 'our',\n",
       " 'ours',\n",
       " 'ourselves',\n",
       " 'you',\n",
       " \"you're\",\n",
       " \"you've\",\n",
       " \"you'll\",\n",
       " \"you'd\",\n",
       " 'your',\n",
       " 'yours',\n",
       " 'yourself',\n",
       " 'yourselves',\n",
       " 'he',\n",
       " 'him',\n",
       " 'his',\n",
       " 'himself',\n",
       " 'she',\n",
       " \"she's\",\n",
       " 'her',\n",
       " 'hers',\n",
       " 'herself',\n",
       " 'it',\n",
       " \"it's\",\n",
       " 'its',\n",
       " 'itself',\n",
       " 'they',\n",
       " 'them',\n",
       " 'their',\n",
       " 'theirs',\n",
       " 'themselves',\n",
       " 'what',\n",
       " 'which',\n",
       " 'who',\n",
       " 'whom',\n",
       " 'this',\n",
       " 'that',\n",
       " \"that'll\",\n",
       " 'these',\n",
       " 'those',\n",
       " 'am',\n",
       " 'is',\n",
       " 'are',\n",
       " 'was',\n",
       " 'were',\n",
       " 'be',\n",
       " 'been',\n",
       " 'being',\n",
       " 'have',\n",
       " 'has',\n",
       " 'had',\n",
       " 'having',\n",
       " 'do',\n",
       " 'does',\n",
       " 'did',\n",
       " 'doing',\n",
       " 'a',\n",
       " 'an',\n",
       " 'the',\n",
       " 'and',\n",
       " 'but',\n",
       " 'if',\n",
       " 'or',\n",
       " 'because',\n",
       " 'as',\n",
       " 'until',\n",
       " 'while',\n",
       " 'of',\n",
       " 'at',\n",
       " 'by',\n",
       " 'for',\n",
       " 'with',\n",
       " 'about',\n",
       " 'against',\n",
       " 'between',\n",
       " 'into',\n",
       " 'through',\n",
       " 'during',\n",
       " 'before',\n",
       " 'after',\n",
       " 'above',\n",
       " 'below',\n",
       " 'to',\n",
       " 'from',\n",
       " 'up',\n",
       " 'down',\n",
       " 'in',\n",
       " 'out',\n",
       " 'on',\n",
       " 'off',\n",
       " 'over',\n",
       " 'under',\n",
       " 'again',\n",
       " 'further',\n",
       " 'then',\n",
       " 'once',\n",
       " 'here',\n",
       " 'there',\n",
       " 'when',\n",
       " 'where',\n",
       " 'why',\n",
       " 'how',\n",
       " 'all',\n",
       " 'any',\n",
       " 'both',\n",
       " 'each',\n",
       " 'few',\n",
       " 'more',\n",
       " 'most',\n",
       " 'other',\n",
       " 'some',\n",
       " 'such',\n",
       " 'no',\n",
       " 'nor',\n",
       " 'not',\n",
       " 'only',\n",
       " 'own',\n",
       " 'same',\n",
       " 'so',\n",
       " 'than',\n",
       " 'too',\n",
       " 'very',\n",
       " 's',\n",
       " 't',\n",
       " 'can',\n",
       " 'will',\n",
       " 'just',\n",
       " 'don',\n",
       " \"don't\",\n",
       " 'should',\n",
       " \"should've\",\n",
       " 'now',\n",
       " 'd',\n",
       " 'll',\n",
       " 'm',\n",
       " 'o',\n",
       " 're',\n",
       " 've',\n",
       " 'y',\n",
       " 'ain',\n",
       " 'aren',\n",
       " \"aren't\",\n",
       " 'couldn',\n",
       " \"couldn't\",\n",
       " 'didn',\n",
       " \"didn't\",\n",
       " 'doesn',\n",
       " \"doesn't\",\n",
       " 'hadn',\n",
       " \"hadn't\",\n",
       " 'hasn',\n",
       " \"hasn't\",\n",
       " 'haven',\n",
       " \"haven't\",\n",
       " 'isn',\n",
       " \"isn't\",\n",
       " 'ma',\n",
       " 'mightn',\n",
       " \"mightn't\",\n",
       " 'mustn',\n",
       " \"mustn't\",\n",
       " 'needn',\n",
       " \"needn't\",\n",
       " 'shan',\n",
       " \"shan't\",\n",
       " 'shouldn',\n",
       " \"shouldn't\",\n",
       " 'wasn',\n",
       " \"wasn't\",\n",
       " 'weren',\n",
       " \"weren't\",\n",
       " 'won',\n",
       " \"won't\",\n",
       " 'wouldn',\n",
       " \"wouldn't\"]"
      ]
     },
     "execution_count": 21,
     "metadata": {},
     "output_type": "execute_result"
    }
   ],
   "source": [
    "stopwords.words('english')"
   ]
  },
  {
   "cell_type": "code",
   "execution_count": 22,
   "id": "6520c576",
   "metadata": {},
   "outputs": [
    {
     "data": {
      "text/plain": [
       "179"
      ]
     },
     "execution_count": 22,
     "metadata": {},
     "output_type": "execute_result"
    }
   ],
   "source": [
    "len(stopwords.words('english'))"
   ]
  },
  {
   "cell_type": "code",
   "execution_count": 23,
   "id": "2ea36a5f",
   "metadata": {},
   "outputs": [
    {
     "data": {
      "text/plain": [
       "'the bookkeepers have set their odds gamblers have placed their bets and the experts have made their picks for sunday’s world cup final between argentina and france but their analysis of the matchup — focused on just the 22 players on the field — might not be considering a wild card argentina’s army of witches'"
      ]
     },
     "execution_count": 23,
     "metadata": {},
     "output_type": "execute_result"
    }
   ],
   "source": [
    "cleaned_text"
   ]
  },
  {
   "cell_type": "code",
   "execution_count": 24,
   "id": "22710b3b",
   "metadata": {},
   "outputs": [],
   "source": [
    "## stopwords\n",
    "\n",
    "from nltk.corpus import stopwords"
   ]
  },
  {
   "cell_type": "code",
   "execution_count": 26,
   "id": "0c60047f",
   "metadata": {},
   "outputs": [
    {
     "data": {
      "text/plain": [
       "['the',\n",
       " 'bookkeepers',\n",
       " 'have',\n",
       " 'set',\n",
       " 'their',\n",
       " 'odds',\n",
       " 'gamblers',\n",
       " 'have',\n",
       " 'placed',\n",
       " 'their',\n",
       " 'bets',\n",
       " 'and',\n",
       " 'the',\n",
       " 'experts',\n",
       " 'have',\n",
       " 'made',\n",
       " 'their',\n",
       " 'picks',\n",
       " 'for',\n",
       " 'sunday',\n",
       " '’',\n",
       " 's',\n",
       " 'world',\n",
       " 'cup',\n",
       " 'final',\n",
       " 'between',\n",
       " 'argentina',\n",
       " 'and',\n",
       " 'france',\n",
       " 'but',\n",
       " 'their',\n",
       " 'analysis',\n",
       " 'of',\n",
       " 'the',\n",
       " 'matchup',\n",
       " '—',\n",
       " 'focused',\n",
       " 'on',\n",
       " 'just',\n",
       " 'the',\n",
       " '22',\n",
       " 'players',\n",
       " 'on',\n",
       " 'the',\n",
       " 'field',\n",
       " '—',\n",
       " 'might',\n",
       " 'not',\n",
       " 'be',\n",
       " 'considering',\n",
       " 'a',\n",
       " 'wild',\n",
       " 'card',\n",
       " 'argentina',\n",
       " '’',\n",
       " 's',\n",
       " 'army',\n",
       " 'of',\n",
       " 'witches']"
      ]
     },
     "execution_count": 26,
     "metadata": {},
     "output_type": "execute_result"
    }
   ],
   "source": [
    "cleaned_text=word_tokenize(cleaned_text)\n",
    "cleaned_text"
   ]
  },
  {
   "cell_type": "code",
   "execution_count": 27,
   "id": "ef4eaf4e",
   "metadata": {},
   "outputs": [
    {
     "data": {
      "text/plain": [
       "['bookkeepers',\n",
       " 'set',\n",
       " 'odds',\n",
       " 'gamblers',\n",
       " 'placed',\n",
       " 'bets',\n",
       " 'experts',\n",
       " 'made',\n",
       " 'picks',\n",
       " 'sunday',\n",
       " '’',\n",
       " 'world',\n",
       " 'cup',\n",
       " 'final',\n",
       " 'argentina',\n",
       " 'france',\n",
       " 'analysis',\n",
       " 'matchup',\n",
       " '—',\n",
       " 'focused',\n",
       " '22',\n",
       " 'players',\n",
       " 'field',\n",
       " '—',\n",
       " 'might',\n",
       " 'considering',\n",
       " 'wild',\n",
       " 'card',\n",
       " 'argentina',\n",
       " '’',\n",
       " 'army',\n",
       " 'witches']"
      ]
     },
     "execution_count": 27,
     "metadata": {},
     "output_type": "execute_result"
    }
   ],
   "source": [
    "cleaned_stop_text=[i for i in cleaned_text if i not in stopwords.words('english')]\n",
    "cleaned_stop_text"
   ]
  },
  {
   "cell_type": "code",
   "execution_count": 28,
   "id": "b1fabd14",
   "metadata": {},
   "outputs": [
    {
     "data": {
      "text/plain": [
       "'bookkeepers set odds gamblers placed bets experts made picks sunday ’ world cup final argentina france analysis matchup — focused 22 players field — might considering wild card argentina ’ army witches'"
      ]
     },
     "execution_count": 28,
     "metadata": {},
     "output_type": "execute_result"
    }
   ],
   "source": [
    "cleaned_stop_text1=' '.join(cleaned_stop_text)\n",
    "cleaned_stop_text1"
   ]
  },
  {
   "cell_type": "code",
   "execution_count": 29,
   "id": "5a7ca3bf",
   "metadata": {},
   "outputs": [
    {
     "data": {
      "text/plain": [
       "32"
      ]
     },
     "execution_count": 29,
     "metadata": {},
     "output_type": "execute_result"
    }
   ],
   "source": [
    "len(cleaned_stop_text)"
   ]
  },
  {
   "cell_type": "code",
   "execution_count": 33,
   "id": "4a890a83",
   "metadata": {},
   "outputs": [],
   "source": [
    "## stemmming\n",
    "\n",
    "from nltk.stem import PorterStemmer\n",
    "reg=PorterStemmer()"
   ]
  },
  {
   "cell_type": "code",
   "execution_count": 34,
   "id": "cdfa32f3",
   "metadata": {},
   "outputs": [
    {
     "name": "stdout",
     "output_type": "stream",
     "text": [
      "original word: bookkeepers ----stemming words= bookkeep\n",
      "original word: set ----stemming words= set\n",
      "original word: odds ----stemming words= odd\n",
      "original word: gamblers ----stemming words= gambler\n",
      "original word: placed ----stemming words= place\n",
      "original word: bets ----stemming words= bet\n",
      "original word: experts ----stemming words= expert\n",
      "original word: made ----stemming words= made\n",
      "original word: picks ----stemming words= pick\n",
      "original word: sunday ----stemming words= sunday\n",
      "original word: ’ ----stemming words= ’\n",
      "original word: world ----stemming words= world\n",
      "original word: cup ----stemming words= cup\n",
      "original word: final ----stemming words= final\n",
      "original word: argentina ----stemming words= argentina\n",
      "original word: france ----stemming words= franc\n",
      "original word: analysis ----stemming words= analysi\n",
      "original word: matchup ----stemming words= matchup\n",
      "original word: — ----stemming words= —\n",
      "original word: focused ----stemming words= focus\n",
      "original word: 22 ----stemming words= 22\n",
      "original word: players ----stemming words= player\n",
      "original word: field ----stemming words= field\n",
      "original word: — ----stemming words= —\n",
      "original word: might ----stemming words= might\n",
      "original word: considering ----stemming words= consid\n",
      "original word: wild ----stemming words= wild\n",
      "original word: card ----stemming words= card\n",
      "original word: argentina ----stemming words= argentina\n",
      "original word: ’ ----stemming words= ’\n",
      "original word: army ----stemming words= armi\n",
      "original word: witches ----stemming words= witch\n"
     ]
    }
   ],
   "source": [
    "for j in cleaned_stop_text :\n",
    "    print('original word:',j,'----stemming words=',reg.stem(j))"
   ]
  },
  {
   "cell_type": "code",
   "execution_count": 35,
   "id": "064d4c73",
   "metadata": {},
   "outputs": [],
   "source": [
    "## Lemmatization"
   ]
  },
  {
   "cell_type": "code",
   "execution_count": 36,
   "id": "3dc940e9",
   "metadata": {},
   "outputs": [],
   "source": [
    "from nltk.stem import WordNetLemmatizer\n",
    "reg1=WordNetLemmatizer()"
   ]
  },
  {
   "cell_type": "code",
   "execution_count": 37,
   "id": "8114521f",
   "metadata": {},
   "outputs": [
    {
     "name": "stdout",
     "output_type": "stream",
     "text": [
      "original word: bookkeepers ------lemmatization words= bookkeeper\n",
      "original word: set ------lemmatization words= set\n",
      "original word: odds ------lemmatization words= odds\n",
      "original word: gamblers ------lemmatization words= gambler\n",
      "original word: placed ------lemmatization words= placed\n",
      "original word: bets ------lemmatization words= bet\n",
      "original word: experts ------lemmatization words= expert\n",
      "original word: made ------lemmatization words= made\n",
      "original word: picks ------lemmatization words= pick\n",
      "original word: sunday ------lemmatization words= sunday\n",
      "original word: ’ ------lemmatization words= ’\n",
      "original word: world ------lemmatization words= world\n",
      "original word: cup ------lemmatization words= cup\n",
      "original word: final ------lemmatization words= final\n",
      "original word: argentina ------lemmatization words= argentina\n",
      "original word: france ------lemmatization words= france\n",
      "original word: analysis ------lemmatization words= analysis\n",
      "original word: matchup ------lemmatization words= matchup\n",
      "original word: — ------lemmatization words= —\n",
      "original word: focused ------lemmatization words= focused\n",
      "original word: 22 ------lemmatization words= 22\n",
      "original word: players ------lemmatization words= player\n",
      "original word: field ------lemmatization words= field\n",
      "original word: — ------lemmatization words= —\n",
      "original word: might ------lemmatization words= might\n",
      "original word: considering ------lemmatization words= considering\n",
      "original word: wild ------lemmatization words= wild\n",
      "original word: card ------lemmatization words= card\n",
      "original word: argentina ------lemmatization words= argentina\n",
      "original word: ’ ------lemmatization words= ’\n",
      "original word: army ------lemmatization words= army\n",
      "original word: witches ------lemmatization words= witch\n"
     ]
    }
   ],
   "source": [
    "for j in cleaned_stop_text:\n",
    "    print('original word:',j,'------lemmatization words=',reg1.lemmatize(j))"
   ]
  },
  {
   "cell_type": "markdown",
   "id": "5677344d",
   "metadata": {},
   "source": [
    "## converting into numbers\n"
   ]
  },
  {
   "cell_type": "raw",
   "id": "30cb1f73",
   "metadata": {},
   "source": [
    "#-Bag of words\n",
    "#-TF-IDF(term frequency-inverse document frequency)"
   ]
  },
  {
   "cell_type": "code",
   "execution_count": 46,
   "id": "997f83cb",
   "metadata": {},
   "outputs": [],
   "source": [
    "from sklearn.feature_extraction.text import CountVectorizer"
   ]
  },
  {
   "cell_type": "code",
   "execution_count": 47,
   "id": "3d5440d8",
   "metadata": {},
   "outputs": [],
   "source": [
    "a=cleaned_stop_text"
   ]
  },
  {
   "cell_type": "code",
   "execution_count": 53,
   "id": "581ba1d1",
   "metadata": {},
   "outputs": [],
   "source": [
    "reg=CountVectorizer()\n",
    "sol=reg.fit_transform(a)"
   ]
  },
  {
   "cell_type": "code",
   "execution_count": 54,
   "id": "1f502183",
   "metadata": {},
   "outputs": [
    {
     "data": {
      "text/plain": [
       "{'bookkeepers': 5,\n",
       " 'set': 22,\n",
       " 'odds': 18,\n",
       " 'gamblers': 14,\n",
       " 'placed': 20,\n",
       " 'bets': 4,\n",
       " 'experts': 9,\n",
       " 'made': 15,\n",
       " 'picks': 19,\n",
       " 'sunday': 23,\n",
       " 'world': 26,\n",
       " 'cup': 8,\n",
       " 'final': 11,\n",
       " 'argentina': 2,\n",
       " 'france': 13,\n",
       " 'analysis': 1,\n",
       " 'matchup': 16,\n",
       " 'focused': 12,\n",
       " '22': 0,\n",
       " 'players': 21,\n",
       " 'field': 10,\n",
       " 'might': 17,\n",
       " 'considering': 7,\n",
       " 'wild': 24,\n",
       " 'card': 6,\n",
       " 'army': 3,\n",
       " 'witches': 25}"
      ]
     },
     "execution_count": 54,
     "metadata": {},
     "output_type": "execute_result"
    }
   ],
   "source": [
    "reg.vocabulary_"
   ]
  },
  {
   "cell_type": "code",
   "execution_count": 55,
   "id": "4095af41",
   "metadata": {},
   "outputs": [
    {
     "data": {
      "text/plain": [
       "array([[0, 0, 0, 0, 0, 1, 0, 0, 0, 0, 0, 0, 0, 0, 0, 0, 0, 0, 0, 0, 0, 0,\n",
       "        0, 0, 0, 0, 0],\n",
       "       [0, 0, 0, 0, 0, 0, 0, 0, 0, 0, 0, 0, 0, 0, 0, 0, 0, 0, 0, 0, 0, 0,\n",
       "        1, 0, 0, 0, 0],\n",
       "       [0, 0, 0, 0, 0, 0, 0, 0, 0, 0, 0, 0, 0, 0, 0, 0, 0, 0, 1, 0, 0, 0,\n",
       "        0, 0, 0, 0, 0],\n",
       "       [0, 0, 0, 0, 0, 0, 0, 0, 0, 0, 0, 0, 0, 0, 1, 0, 0, 0, 0, 0, 0, 0,\n",
       "        0, 0, 0, 0, 0],\n",
       "       [0, 0, 0, 0, 0, 0, 0, 0, 0, 0, 0, 0, 0, 0, 0, 0, 0, 0, 0, 0, 1, 0,\n",
       "        0, 0, 0, 0, 0],\n",
       "       [0, 0, 0, 0, 1, 0, 0, 0, 0, 0, 0, 0, 0, 0, 0, 0, 0, 0, 0, 0, 0, 0,\n",
       "        0, 0, 0, 0, 0],\n",
       "       [0, 0, 0, 0, 0, 0, 0, 0, 0, 1, 0, 0, 0, 0, 0, 0, 0, 0, 0, 0, 0, 0,\n",
       "        0, 0, 0, 0, 0],\n",
       "       [0, 0, 0, 0, 0, 0, 0, 0, 0, 0, 0, 0, 0, 0, 0, 1, 0, 0, 0, 0, 0, 0,\n",
       "        0, 0, 0, 0, 0],\n",
       "       [0, 0, 0, 0, 0, 0, 0, 0, 0, 0, 0, 0, 0, 0, 0, 0, 0, 0, 0, 1, 0, 0,\n",
       "        0, 0, 0, 0, 0],\n",
       "       [0, 0, 0, 0, 0, 0, 0, 0, 0, 0, 0, 0, 0, 0, 0, 0, 0, 0, 0, 0, 0, 0,\n",
       "        0, 1, 0, 0, 0],\n",
       "       [0, 0, 0, 0, 0, 0, 0, 0, 0, 0, 0, 0, 0, 0, 0, 0, 0, 0, 0, 0, 0, 0,\n",
       "        0, 0, 0, 0, 0],\n",
       "       [0, 0, 0, 0, 0, 0, 0, 0, 0, 0, 0, 0, 0, 0, 0, 0, 0, 0, 0, 0, 0, 0,\n",
       "        0, 0, 0, 0, 1],\n",
       "       [0, 0, 0, 0, 0, 0, 0, 0, 1, 0, 0, 0, 0, 0, 0, 0, 0, 0, 0, 0, 0, 0,\n",
       "        0, 0, 0, 0, 0],\n",
       "       [0, 0, 0, 0, 0, 0, 0, 0, 0, 0, 0, 1, 0, 0, 0, 0, 0, 0, 0, 0, 0, 0,\n",
       "        0, 0, 0, 0, 0],\n",
       "       [0, 0, 1, 0, 0, 0, 0, 0, 0, 0, 0, 0, 0, 0, 0, 0, 0, 0, 0, 0, 0, 0,\n",
       "        0, 0, 0, 0, 0],\n",
       "       [0, 0, 0, 0, 0, 0, 0, 0, 0, 0, 0, 0, 0, 1, 0, 0, 0, 0, 0, 0, 0, 0,\n",
       "        0, 0, 0, 0, 0],\n",
       "       [0, 1, 0, 0, 0, 0, 0, 0, 0, 0, 0, 0, 0, 0, 0, 0, 0, 0, 0, 0, 0, 0,\n",
       "        0, 0, 0, 0, 0],\n",
       "       [0, 0, 0, 0, 0, 0, 0, 0, 0, 0, 0, 0, 0, 0, 0, 0, 1, 0, 0, 0, 0, 0,\n",
       "        0, 0, 0, 0, 0],\n",
       "       [0, 0, 0, 0, 0, 0, 0, 0, 0, 0, 0, 0, 0, 0, 0, 0, 0, 0, 0, 0, 0, 0,\n",
       "        0, 0, 0, 0, 0],\n",
       "       [0, 0, 0, 0, 0, 0, 0, 0, 0, 0, 0, 0, 1, 0, 0, 0, 0, 0, 0, 0, 0, 0,\n",
       "        0, 0, 0, 0, 0],\n",
       "       [1, 0, 0, 0, 0, 0, 0, 0, 0, 0, 0, 0, 0, 0, 0, 0, 0, 0, 0, 0, 0, 0,\n",
       "        0, 0, 0, 0, 0],\n",
       "       [0, 0, 0, 0, 0, 0, 0, 0, 0, 0, 0, 0, 0, 0, 0, 0, 0, 0, 0, 0, 0, 1,\n",
       "        0, 0, 0, 0, 0],\n",
       "       [0, 0, 0, 0, 0, 0, 0, 0, 0, 0, 1, 0, 0, 0, 0, 0, 0, 0, 0, 0, 0, 0,\n",
       "        0, 0, 0, 0, 0],\n",
       "       [0, 0, 0, 0, 0, 0, 0, 0, 0, 0, 0, 0, 0, 0, 0, 0, 0, 0, 0, 0, 0, 0,\n",
       "        0, 0, 0, 0, 0],\n",
       "       [0, 0, 0, 0, 0, 0, 0, 0, 0, 0, 0, 0, 0, 0, 0, 0, 0, 1, 0, 0, 0, 0,\n",
       "        0, 0, 0, 0, 0],\n",
       "       [0, 0, 0, 0, 0, 0, 0, 1, 0, 0, 0, 0, 0, 0, 0, 0, 0, 0, 0, 0, 0, 0,\n",
       "        0, 0, 0, 0, 0],\n",
       "       [0, 0, 0, 0, 0, 0, 0, 0, 0, 0, 0, 0, 0, 0, 0, 0, 0, 0, 0, 0, 0, 0,\n",
       "        0, 0, 1, 0, 0],\n",
       "       [0, 0, 0, 0, 0, 0, 1, 0, 0, 0, 0, 0, 0, 0, 0, 0, 0, 0, 0, 0, 0, 0,\n",
       "        0, 0, 0, 0, 0],\n",
       "       [0, 0, 1, 0, 0, 0, 0, 0, 0, 0, 0, 0, 0, 0, 0, 0, 0, 0, 0, 0, 0, 0,\n",
       "        0, 0, 0, 0, 0],\n",
       "       [0, 0, 0, 0, 0, 0, 0, 0, 0, 0, 0, 0, 0, 0, 0, 0, 0, 0, 0, 0, 0, 0,\n",
       "        0, 0, 0, 0, 0],\n",
       "       [0, 0, 0, 1, 0, 0, 0, 0, 0, 0, 0, 0, 0, 0, 0, 0, 0, 0, 0, 0, 0, 0,\n",
       "        0, 0, 0, 0, 0],\n",
       "       [0, 0, 0, 0, 0, 0, 0, 0, 0, 0, 0, 0, 0, 0, 0, 0, 0, 0, 0, 0, 0, 0,\n",
       "        0, 0, 0, 1, 0]], dtype=int64)"
      ]
     },
     "execution_count": 55,
     "metadata": {},
     "output_type": "execute_result"
    }
   ],
   "source": [
    "sol.toarray()"
   ]
  },
  {
   "cell_type": "markdown",
   "id": "fd57bc66",
   "metadata": {},
   "source": [
    "### TF-IDF"
   ]
  },
  {
   "cell_type": "code",
   "execution_count": 57,
   "id": "68aedc99",
   "metadata": {},
   "outputs": [],
   "source": [
    "from sklearn.feature_extraction.text import TfidfVectorizer"
   ]
  },
  {
   "cell_type": "code",
   "execution_count": 58,
   "id": "610e585b",
   "metadata": {},
   "outputs": [],
   "source": [
    "reg=TfidfVectorizer()"
   ]
  },
  {
   "cell_type": "code",
   "execution_count": 59,
   "id": "f6cfecea",
   "metadata": {},
   "outputs": [],
   "source": [
    "sol=reg.fit_transform(a)"
   ]
  },
  {
   "cell_type": "code",
   "execution_count": 60,
   "id": "f53e80af",
   "metadata": {},
   "outputs": [
    {
     "data": {
      "text/plain": [
       "{'bookkeepers': 5,\n",
       " 'set': 22,\n",
       " 'odds': 18,\n",
       " 'gamblers': 14,\n",
       " 'placed': 20,\n",
       " 'bets': 4,\n",
       " 'experts': 9,\n",
       " 'made': 15,\n",
       " 'picks': 19,\n",
       " 'sunday': 23,\n",
       " 'world': 26,\n",
       " 'cup': 8,\n",
       " 'final': 11,\n",
       " 'argentina': 2,\n",
       " 'france': 13,\n",
       " 'analysis': 1,\n",
       " 'matchup': 16,\n",
       " 'focused': 12,\n",
       " '22': 0,\n",
       " 'players': 21,\n",
       " 'field': 10,\n",
       " 'might': 17,\n",
       " 'considering': 7,\n",
       " 'wild': 24,\n",
       " 'card': 6,\n",
       " 'army': 3,\n",
       " 'witches': 25}"
      ]
     },
     "execution_count": 60,
     "metadata": {},
     "output_type": "execute_result"
    }
   ],
   "source": [
    "reg.vocabulary_"
   ]
  },
  {
   "cell_type": "code",
   "execution_count": 61,
   "id": "8d1bd99a",
   "metadata": {},
   "outputs": [
    {
     "data": {
      "text/plain": [
       "<32x27 sparse matrix of type '<class 'numpy.float64'>'\n",
       "\twith 28 stored elements in Compressed Sparse Row format>"
      ]
     },
     "execution_count": 61,
     "metadata": {},
     "output_type": "execute_result"
    }
   ],
   "source": [
    "sol"
   ]
  },
  {
   "cell_type": "code",
   "execution_count": 62,
   "id": "771e9517",
   "metadata": {},
   "outputs": [
    {
     "data": {
      "text/plain": [
       "array([[0., 0., 0., 0., 0., 1., 0., 0., 0., 0., 0., 0., 0., 0., 0., 0.,\n",
       "        0., 0., 0., 0., 0., 0., 0., 0., 0., 0., 0.],\n",
       "       [0., 0., 0., 0., 0., 0., 0., 0., 0., 0., 0., 0., 0., 0., 0., 0.,\n",
       "        0., 0., 0., 0., 0., 0., 1., 0., 0., 0., 0.],\n",
       "       [0., 0., 0., 0., 0., 0., 0., 0., 0., 0., 0., 0., 0., 0., 0., 0.,\n",
       "        0., 0., 1., 0., 0., 0., 0., 0., 0., 0., 0.],\n",
       "       [0., 0., 0., 0., 0., 0., 0., 0., 0., 0., 0., 0., 0., 0., 1., 0.,\n",
       "        0., 0., 0., 0., 0., 0., 0., 0., 0., 0., 0.],\n",
       "       [0., 0., 0., 0., 0., 0., 0., 0., 0., 0., 0., 0., 0., 0., 0., 0.,\n",
       "        0., 0., 0., 0., 1., 0., 0., 0., 0., 0., 0.],\n",
       "       [0., 0., 0., 0., 1., 0., 0., 0., 0., 0., 0., 0., 0., 0., 0., 0.,\n",
       "        0., 0., 0., 0., 0., 0., 0., 0., 0., 0., 0.],\n",
       "       [0., 0., 0., 0., 0., 0., 0., 0., 0., 1., 0., 0., 0., 0., 0., 0.,\n",
       "        0., 0., 0., 0., 0., 0., 0., 0., 0., 0., 0.],\n",
       "       [0., 0., 0., 0., 0., 0., 0., 0., 0., 0., 0., 0., 0., 0., 0., 1.,\n",
       "        0., 0., 0., 0., 0., 0., 0., 0., 0., 0., 0.],\n",
       "       [0., 0., 0., 0., 0., 0., 0., 0., 0., 0., 0., 0., 0., 0., 0., 0.,\n",
       "        0., 0., 0., 1., 0., 0., 0., 0., 0., 0., 0.],\n",
       "       [0., 0., 0., 0., 0., 0., 0., 0., 0., 0., 0., 0., 0., 0., 0., 0.,\n",
       "        0., 0., 0., 0., 0., 0., 0., 1., 0., 0., 0.],\n",
       "       [0., 0., 0., 0., 0., 0., 0., 0., 0., 0., 0., 0., 0., 0., 0., 0.,\n",
       "        0., 0., 0., 0., 0., 0., 0., 0., 0., 0., 0.],\n",
       "       [0., 0., 0., 0., 0., 0., 0., 0., 0., 0., 0., 0., 0., 0., 0., 0.,\n",
       "        0., 0., 0., 0., 0., 0., 0., 0., 0., 0., 1.],\n",
       "       [0., 0., 0., 0., 0., 0., 0., 0., 1., 0., 0., 0., 0., 0., 0., 0.,\n",
       "        0., 0., 0., 0., 0., 0., 0., 0., 0., 0., 0.],\n",
       "       [0., 0., 0., 0., 0., 0., 0., 0., 0., 0., 0., 1., 0., 0., 0., 0.,\n",
       "        0., 0., 0., 0., 0., 0., 0., 0., 0., 0., 0.],\n",
       "       [0., 0., 1., 0., 0., 0., 0., 0., 0., 0., 0., 0., 0., 0., 0., 0.,\n",
       "        0., 0., 0., 0., 0., 0., 0., 0., 0., 0., 0.],\n",
       "       [0., 0., 0., 0., 0., 0., 0., 0., 0., 0., 0., 0., 0., 1., 0., 0.,\n",
       "        0., 0., 0., 0., 0., 0., 0., 0., 0., 0., 0.],\n",
       "       [0., 1., 0., 0., 0., 0., 0., 0., 0., 0., 0., 0., 0., 0., 0., 0.,\n",
       "        0., 0., 0., 0., 0., 0., 0., 0., 0., 0., 0.],\n",
       "       [0., 0., 0., 0., 0., 0., 0., 0., 0., 0., 0., 0., 0., 0., 0., 0.,\n",
       "        1., 0., 0., 0., 0., 0., 0., 0., 0., 0., 0.],\n",
       "       [0., 0., 0., 0., 0., 0., 0., 0., 0., 0., 0., 0., 0., 0., 0., 0.,\n",
       "        0., 0., 0., 0., 0., 0., 0., 0., 0., 0., 0.],\n",
       "       [0., 0., 0., 0., 0., 0., 0., 0., 0., 0., 0., 0., 1., 0., 0., 0.,\n",
       "        0., 0., 0., 0., 0., 0., 0., 0., 0., 0., 0.],\n",
       "       [1., 0., 0., 0., 0., 0., 0., 0., 0., 0., 0., 0., 0., 0., 0., 0.,\n",
       "        0., 0., 0., 0., 0., 0., 0., 0., 0., 0., 0.],\n",
       "       [0., 0., 0., 0., 0., 0., 0., 0., 0., 0., 0., 0., 0., 0., 0., 0.,\n",
       "        0., 0., 0., 0., 0., 1., 0., 0., 0., 0., 0.],\n",
       "       [0., 0., 0., 0., 0., 0., 0., 0., 0., 0., 1., 0., 0., 0., 0., 0.,\n",
       "        0., 0., 0., 0., 0., 0., 0., 0., 0., 0., 0.],\n",
       "       [0., 0., 0., 0., 0., 0., 0., 0., 0., 0., 0., 0., 0., 0., 0., 0.,\n",
       "        0., 0., 0., 0., 0., 0., 0., 0., 0., 0., 0.],\n",
       "       [0., 0., 0., 0., 0., 0., 0., 0., 0., 0., 0., 0., 0., 0., 0., 0.,\n",
       "        0., 1., 0., 0., 0., 0., 0., 0., 0., 0., 0.],\n",
       "       [0., 0., 0., 0., 0., 0., 0., 1., 0., 0., 0., 0., 0., 0., 0., 0.,\n",
       "        0., 0., 0., 0., 0., 0., 0., 0., 0., 0., 0.],\n",
       "       [0., 0., 0., 0., 0., 0., 0., 0., 0., 0., 0., 0., 0., 0., 0., 0.,\n",
       "        0., 0., 0., 0., 0., 0., 0., 0., 1., 0., 0.],\n",
       "       [0., 0., 0., 0., 0., 0., 1., 0., 0., 0., 0., 0., 0., 0., 0., 0.,\n",
       "        0., 0., 0., 0., 0., 0., 0., 0., 0., 0., 0.],\n",
       "       [0., 0., 1., 0., 0., 0., 0., 0., 0., 0., 0., 0., 0., 0., 0., 0.,\n",
       "        0., 0., 0., 0., 0., 0., 0., 0., 0., 0., 0.],\n",
       "       [0., 0., 0., 0., 0., 0., 0., 0., 0., 0., 0., 0., 0., 0., 0., 0.,\n",
       "        0., 0., 0., 0., 0., 0., 0., 0., 0., 0., 0.],\n",
       "       [0., 0., 0., 1., 0., 0., 0., 0., 0., 0., 0., 0., 0., 0., 0., 0.,\n",
       "        0., 0., 0., 0., 0., 0., 0., 0., 0., 0., 0.],\n",
       "       [0., 0., 0., 0., 0., 0., 0., 0., 0., 0., 0., 0., 0., 0., 0., 0.,\n",
       "        0., 0., 0., 0., 0., 0., 0., 0., 0., 1., 0.]])"
      ]
     },
     "execution_count": 62,
     "metadata": {},
     "output_type": "execute_result"
    }
   ],
   "source": [
    "sol.toarray()"
   ]
  },
  {
   "cell_type": "code",
   "execution_count": null,
   "id": "c8c0c596",
   "metadata": {},
   "outputs": [],
   "source": []
  }
 ],
 "metadata": {
  "kernelspec": {
   "display_name": "Python 3 (ipykernel)",
   "language": "python",
   "name": "python3"
  },
  "language_info": {
   "codemirror_mode": {
    "name": "ipython",
    "version": 3
   },
   "file_extension": ".py",
   "mimetype": "text/x-python",
   "name": "python",
   "nbconvert_exporter": "python",
   "pygments_lexer": "ipython3",
   "version": "3.9.12"
  }
 },
 "nbformat": 4,
 "nbformat_minor": 5
}
