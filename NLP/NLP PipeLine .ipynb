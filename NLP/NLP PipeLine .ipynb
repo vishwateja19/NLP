{
 "cells": [
  {
   "cell_type": "code",
   "execution_count": 1,
   "id": "e30d98c7",
   "metadata": {},
   "outputs": [],
   "source": [
    "# for nlp we are using nltk library "
   ]
  },
  {
   "cell_type": "code",
   "execution_count": 2,
   "id": "2e1e4845",
   "metadata": {},
   "outputs": [],
   "source": [
    "# !pip install nltk"
   ]
  },
  {
   "cell_type": "raw",
   "id": "fc7e9936",
   "metadata": {},
   "source": [
    "import nltk \n",
    "nltk.download()"
   ]
  },
  {
   "cell_type": "markdown",
   "id": "b13aff3b",
   "metadata": {},
   "source": [
    "- collecting text \n",
    "- sentence \n",
    "- word \n",
    "- preprocessing \n",
    "- lower \n",
    "- stopwords \n",
    "- stemming \n",
    "- Lemmatization \n",
    "- bag of words \n",
    "- Tf - IDF \n"
   ]
  },
  {
   "cell_type": "code",
   "execution_count": 3,
   "id": "396ee73a",
   "metadata": {},
   "outputs": [],
   "source": [
    "import nltk "
   ]
  },
  {
   "cell_type": "code",
   "execution_count": 4,
   "id": "b7822682",
   "metadata": {},
   "outputs": [],
   "source": [
    "# Load text \n",
    "\n",
    "text = \"\"\"A bench of justices A S Bopanna and Dipankar Datta rejected the petition filed by Saritha S Nair, who had moved the apex court against an October 31, 2019 decision of the Kerala High Court by which her election petitions challenging the Lok Sabha polls in Wayanad and Ernakulam also were dismissed.On November 2, 2020, Nair's plea challenging Gandhi's election was rejected by the top court for non-prosecution.Later, an application seeking the restoration of the plea was filed in the apex court.When the matter came up for hearing before the court on Friday, the bench allowed the application for restoration. \"The special leave petition is restored to its original number. Having heard counsel for the petitioner on merits, we see no reason to interfere with the impugned order. The special leave petition is, accordingly, dismissed,\" the bench said in its order.\"\"\""
   ]
  },
  {
   "cell_type": "code",
   "execution_count": 5,
   "id": "03b94da8",
   "metadata": {},
   "outputs": [
    {
     "data": {
      "text/plain": [
       "'A bench of justices A S Bopanna and Dipankar Datta rejected the petition filed by Saritha S Nair, who had moved the apex court against an October 31, 2019 decision of the Kerala High Court by which her election petitions challenging the Lok Sabha polls in Wayanad and Ernakulam also were dismissed.On November 2, 2020, Nair\\'s plea challenging Gandhi\\'s election was rejected by the top court for non-prosecution.Later, an application seeking the restoration of the plea was filed in the apex court.When the matter came up for hearing before the court on Friday, the bench allowed the application for restoration. \"The special leave petition is restored to its original number. Having heard counsel for the petitioner on merits, we see no reason to interfere with the impugned order. The special leave petition is, accordingly, dismissed,\" the bench said in its order.'"
      ]
     },
     "execution_count": 5,
     "metadata": {},
     "output_type": "execute_result"
    }
   ],
   "source": [
    "text"
   ]
  },
  {
   "cell_type": "code",
   "execution_count": 6,
   "id": "b68ce99b",
   "metadata": {},
   "outputs": [],
   "source": [
    "from nltk.tokenize import sent_tokenize ,word_tokenize"
   ]
  },
  {
   "cell_type": "code",
   "execution_count": 7,
   "id": "4ab2e6a3",
   "metadata": {},
   "outputs": [],
   "source": [
    "## Sentence\n",
    "\n",
    "sentence = sent_tokenize(text)\n"
   ]
  },
  {
   "cell_type": "code",
   "execution_count": 8,
   "id": "1d184a1e",
   "metadata": {},
   "outputs": [
    {
     "data": {
      "text/plain": [
       "[\"A bench of justices A S Bopanna and Dipankar Datta rejected the petition filed by Saritha S Nair, who had moved the apex court against an October 31, 2019 decision of the Kerala High Court by which her election petitions challenging the Lok Sabha polls in Wayanad and Ernakulam also were dismissed.On November 2, 2020, Nair's plea challenging Gandhi's election was rejected by the top court for non-prosecution.Later, an application seeking the restoration of the plea was filed in the apex court.When the matter came up for hearing before the court on Friday, the bench allowed the application for restoration.\",\n",
       " '\"The special leave petition is restored to its original number.',\n",
       " 'Having heard counsel for the petitioner on merits, we see no reason to interfere with the impugned order.',\n",
       " 'The special leave petition is, accordingly, dismissed,\" the bench said in its order.']"
      ]
     },
     "execution_count": 8,
     "metadata": {},
     "output_type": "execute_result"
    }
   ],
   "source": [
    "sentence"
   ]
  },
  {
   "cell_type": "code",
   "execution_count": 9,
   "id": "32c5eac3",
   "metadata": {},
   "outputs": [
    {
     "data": {
      "text/plain": [
       "4"
      ]
     },
     "execution_count": 9,
     "metadata": {},
     "output_type": "execute_result"
    }
   ],
   "source": [
    "len(sentence)"
   ]
  },
  {
   "cell_type": "code",
   "execution_count": 10,
   "id": "a4ddedda",
   "metadata": {},
   "outputs": [],
   "source": [
    "## word \n",
    "\n",
    "word = word_tokenize(text)"
   ]
  },
  {
   "cell_type": "code",
   "execution_count": 11,
   "id": "1259ac03",
   "metadata": {},
   "outputs": [
    {
     "data": {
      "text/plain": [
       "['A',\n",
       " 'bench',\n",
       " 'of',\n",
       " 'justices',\n",
       " 'A',\n",
       " 'S',\n",
       " 'Bopanna',\n",
       " 'and',\n",
       " 'Dipankar',\n",
       " 'Datta',\n",
       " 'rejected',\n",
       " 'the',\n",
       " 'petition',\n",
       " 'filed',\n",
       " 'by',\n",
       " 'Saritha',\n",
       " 'S',\n",
       " 'Nair',\n",
       " ',',\n",
       " 'who',\n",
       " 'had',\n",
       " 'moved',\n",
       " 'the',\n",
       " 'apex',\n",
       " 'court',\n",
       " 'against',\n",
       " 'an',\n",
       " 'October',\n",
       " '31',\n",
       " ',',\n",
       " '2019',\n",
       " 'decision',\n",
       " 'of',\n",
       " 'the',\n",
       " 'Kerala',\n",
       " 'High',\n",
       " 'Court',\n",
       " 'by',\n",
       " 'which',\n",
       " 'her',\n",
       " 'election',\n",
       " 'petitions',\n",
       " 'challenging',\n",
       " 'the',\n",
       " 'Lok',\n",
       " 'Sabha',\n",
       " 'polls',\n",
       " 'in',\n",
       " 'Wayanad',\n",
       " 'and',\n",
       " 'Ernakulam',\n",
       " 'also',\n",
       " 'were',\n",
       " 'dismissed.On',\n",
       " 'November',\n",
       " '2',\n",
       " ',',\n",
       " '2020',\n",
       " ',',\n",
       " 'Nair',\n",
       " \"'s\",\n",
       " 'plea',\n",
       " 'challenging',\n",
       " 'Gandhi',\n",
       " \"'s\",\n",
       " 'election',\n",
       " 'was',\n",
       " 'rejected',\n",
       " 'by',\n",
       " 'the',\n",
       " 'top',\n",
       " 'court',\n",
       " 'for',\n",
       " 'non-prosecution.Later',\n",
       " ',',\n",
       " 'an',\n",
       " 'application',\n",
       " 'seeking',\n",
       " 'the',\n",
       " 'restoration',\n",
       " 'of',\n",
       " 'the',\n",
       " 'plea',\n",
       " 'was',\n",
       " 'filed',\n",
       " 'in',\n",
       " 'the',\n",
       " 'apex',\n",
       " 'court.When',\n",
       " 'the',\n",
       " 'matter',\n",
       " 'came',\n",
       " 'up',\n",
       " 'for',\n",
       " 'hearing',\n",
       " 'before',\n",
       " 'the',\n",
       " 'court',\n",
       " 'on',\n",
       " 'Friday',\n",
       " ',',\n",
       " 'the',\n",
       " 'bench',\n",
       " 'allowed',\n",
       " 'the',\n",
       " 'application',\n",
       " 'for',\n",
       " 'restoration',\n",
       " '.',\n",
       " '``',\n",
       " 'The',\n",
       " 'special',\n",
       " 'leave',\n",
       " 'petition',\n",
       " 'is',\n",
       " 'restored',\n",
       " 'to',\n",
       " 'its',\n",
       " 'original',\n",
       " 'number',\n",
       " '.',\n",
       " 'Having',\n",
       " 'heard',\n",
       " 'counsel',\n",
       " 'for',\n",
       " 'the',\n",
       " 'petitioner',\n",
       " 'on',\n",
       " 'merits',\n",
       " ',',\n",
       " 'we',\n",
       " 'see',\n",
       " 'no',\n",
       " 'reason',\n",
       " 'to',\n",
       " 'interfere',\n",
       " 'with',\n",
       " 'the',\n",
       " 'impugned',\n",
       " 'order',\n",
       " '.',\n",
       " 'The',\n",
       " 'special',\n",
       " 'leave',\n",
       " 'petition',\n",
       " 'is',\n",
       " ',',\n",
       " 'accordingly',\n",
       " ',',\n",
       " 'dismissed',\n",
       " ',',\n",
       " \"''\",\n",
       " 'the',\n",
       " 'bench',\n",
       " 'said',\n",
       " 'in',\n",
       " 'its',\n",
       " 'order',\n",
       " '.']"
      ]
     },
     "execution_count": 11,
     "metadata": {},
     "output_type": "execute_result"
    }
   ],
   "source": [
    "word\n"
   ]
  },
  {
   "cell_type": "code",
   "execution_count": 12,
   "id": "acbd7367",
   "metadata": {},
   "outputs": [
    {
     "data": {
      "text/plain": [
       "159"
      ]
     },
     "execution_count": 12,
     "metadata": {},
     "output_type": "execute_result"
    }
   ],
   "source": [
    "len(word)"
   ]
  },
  {
   "cell_type": "code",
   "execution_count": 13,
   "id": "b28e102f",
   "metadata": {},
   "outputs": [],
   "source": [
    "## lowering the text \n",
    "\n",
    "lower_text = text.lower()"
   ]
  },
  {
   "cell_type": "code",
   "execution_count": 14,
   "id": "4cc841c1",
   "metadata": {},
   "outputs": [
    {
     "data": {
      "text/plain": [
       "'a bench of justices a s bopanna and dipankar datta rejected the petition filed by saritha s nair, who had moved the apex court against an october 31, 2019 decision of the kerala high court by which her election petitions challenging the lok sabha polls in wayanad and ernakulam also were dismissed.on november 2, 2020, nair\\'s plea challenging gandhi\\'s election was rejected by the top court for non-prosecution.later, an application seeking the restoration of the plea was filed in the apex court.when the matter came up for hearing before the court on friday, the bench allowed the application for restoration. \"the special leave petition is restored to its original number. having heard counsel for the petitioner on merits, we see no reason to interfere with the impugned order. the special leave petition is, accordingly, dismissed,\" the bench said in its order.'"
      ]
     },
     "execution_count": 14,
     "metadata": {},
     "output_type": "execute_result"
    }
   ],
   "source": [
    "lower_text\n"
   ]
  },
  {
   "cell_type": "code",
   "execution_count": 15,
   "id": "0b5c34e0",
   "metadata": {},
   "outputs": [],
   "source": [
    "## Preprocessing \n"
   ]
  },
  {
   "cell_type": "code",
   "execution_count": 16,
   "id": "b06afd6c",
   "metadata": {},
   "outputs": [
    {
     "data": {
      "text/plain": [
       "'!\"#$%&\\'()*+,-./:;<=>?@[\\\\]^_`{|}~'"
      ]
     },
     "execution_count": 16,
     "metadata": {},
     "output_type": "execute_result"
    }
   ],
   "source": [
    "import string \n",
    "string.punctuation"
   ]
  },
  {
   "cell_type": "code",
   "execution_count": 17,
   "id": "fce01089",
   "metadata": {},
   "outputs": [
    {
     "data": {
      "text/plain": [
       "'a bench of justices a s bopanna and dipankar datta rejected the petition filed by saritha s nair, who had moved the apex court against an october 31, 2019 decision of the kerala high court by which her election petitions challenging the lok sabha polls in wayanad and ernakulam also were dismissed.on november 2, 2020, nair\\'s plea challenging gandhi\\'s election was rejected by the top court for non-prosecution.later, an application seeking the restoration of the plea was filed in the apex court.when the matter came up for hearing before the court on friday, the bench allowed the application for restoration. \"the special leave petition is restored to its original number. having heard counsel for the petitioner on merits, we see no reason to interfere with the impugned order. the special leave petition is, accordingly, dismissed,\" the bench said in its order.'"
      ]
     },
     "execution_count": 17,
     "metadata": {},
     "output_type": "execute_result"
    }
   ],
   "source": [
    "lower_text"
   ]
  },
  {
   "cell_type": "code",
   "execution_count": 18,
   "id": "44cf0804",
   "metadata": {},
   "outputs": [
    {
     "name": "stdout",
     "output_type": "stream",
     "text": [
      "a bench of justices a s bopanna and dipankar datta rejected the petition filed by saritha s nair who had moved the apex court against an october 31 2019 decision of the kerala high court by which her election petitions challenging the lok sabha polls in wayanad and ernakulam also were dismissedon november 2 2020 nairs plea challenging gandhis election was rejected by the top court for nonprosecutionlater an application seeking the restoration of the plea was filed in the apex courtwhen the matter came up for hearing before the court on friday the bench allowed the application for restoration the special leave petition is restored to its original number having heard counsel for the petitioner on merits we see no reason to interfere with the impugned order the special leave petition is accordingly dismissed the bench said in its order\n"
     ]
    }
   ],
   "source": [
    "# removing punctuations \n",
    "\n",
    "cleaned_text = ''.join([i for i in lower_text if i not in string.punctuation])\n",
    "print(cleaned_text)"
   ]
  },
  {
   "cell_type": "code",
   "execution_count": 19,
   "id": "2f0d16f6",
   "metadata": {},
   "outputs": [
    {
     "name": "stdout",
     "output_type": "stream",
     "text": [
      "a bench of justices a s bopanna and dipankar datta rejected the petition filed by saritha s nair who had moved the apex court against an october 31 2019 decision of the kerala high court by which her election petitions challenging the lok sabha polls in wayanad and ernakulam also were dismissedon november 2 2020 nairs plea challenging gandhis election was rejected by the top court for nonprosecutionlater an application seeking the restoration of the plea was filed in the apex courtwhen the matter came up for hearing before the court on friday the bench allowed the application for restoration the special leave petition is restored to its original number having heard counsel for the petitioner on merits we see no reason to interfere with the impugned order the special leave petition is accordingly dismissed the bench said in its order\n"
     ]
    }
   ],
   "source": [
    "c = []\n",
    "for i in text.lower():\n",
    "    if i not in '!\"#$%&\\'()*+,-./:;<=>?@[\\\\]^_`{|}~':\n",
    "        c.append(i)\n",
    "print(''.join(c))"
   ]
  },
  {
   "cell_type": "code",
   "execution_count": 20,
   "id": "684eaf1b",
   "metadata": {},
   "outputs": [
    {
     "name": "stdout",
     "output_type": "stream",
     "text": [
      "A bench of justices A S Bopanna and Dipankar Datta rejected the petition filed by Saritha S Nair, who had moved the apex court against an October 31, 2019 decision of the Kerala High Court by which her election petitions challenging the Lok Sabha polls in Wayanad and Ernakulam also were dismissed.On November 2, 2020, Nair's plea challenging Gandhi's election was rejected by the top court for non-prosecution.Later, an application seeking the restoration of the plea was filed in the apex court.When the matter came up for hearing before the court on Friday, the bench allowed the application for restoration. \"The special leave petition is restored to its original number. Having heard counsel for the petitioner on merits, we see no reason to interfere with the impugned order. The special leave petition is, accordingly, dismissed,\" the bench said in its order.\n"
     ]
    }
   ],
   "source": [
    "print(text)"
   ]
  },
  {
   "cell_type": "code",
   "execution_count": 21,
   "id": "c429220d",
   "metadata": {},
   "outputs": [
    {
     "data": {
      "text/plain": [
       "'a bench of justices a s bopanna and dipankar datta rejected the petition filed by saritha s nair who had moved the apex court against an october 31 2019 decision of the kerala high court by which her election petitions challenging the lok sabha polls in wayanad and ernakulam also were dismissedon november 2 2020 nairs plea challenging gandhis election was rejected by the top court for nonprosecutionlater an application seeking the restoration of the plea was filed in the apex courtwhen the matter came up for hearing before the court on friday the bench allowed the application for restoration the special leave petition is restored to its original number having heard counsel for the petitioner on merits we see no reason to interfere with the impugned order the special leave petition is accordingly dismissed the bench said in its order'"
      ]
     },
     "execution_count": 21,
     "metadata": {},
     "output_type": "execute_result"
    }
   ],
   "source": [
    "# perfect data -> cleaned text \n",
    "cleaned_text"
   ]
  },
  {
   "cell_type": "code",
   "execution_count": 22,
   "id": "9c52e033",
   "metadata": {},
   "outputs": [],
   "source": [
    "## stopwords \n",
    "\n",
    "from nltk.corpus import stopwords"
   ]
  },
  {
   "cell_type": "code",
   "execution_count": 23,
   "id": "3ef1ef7e",
   "metadata": {
    "scrolled": false
   },
   "outputs": [
    {
     "data": {
      "text/plain": [
       "['i',\n",
       " 'me',\n",
       " 'my',\n",
       " 'myself',\n",
       " 'we',\n",
       " 'our',\n",
       " 'ours',\n",
       " 'ourselves',\n",
       " 'you',\n",
       " \"you're\",\n",
       " \"you've\",\n",
       " \"you'll\",\n",
       " \"you'd\",\n",
       " 'your',\n",
       " 'yours',\n",
       " 'yourself',\n",
       " 'yourselves',\n",
       " 'he',\n",
       " 'him',\n",
       " 'his',\n",
       " 'himself',\n",
       " 'she',\n",
       " \"she's\",\n",
       " 'her',\n",
       " 'hers',\n",
       " 'herself',\n",
       " 'it',\n",
       " \"it's\",\n",
       " 'its',\n",
       " 'itself',\n",
       " 'they',\n",
       " 'them',\n",
       " 'their',\n",
       " 'theirs',\n",
       " 'themselves',\n",
       " 'what',\n",
       " 'which',\n",
       " 'who',\n",
       " 'whom',\n",
       " 'this',\n",
       " 'that',\n",
       " \"that'll\",\n",
       " 'these',\n",
       " 'those',\n",
       " 'am',\n",
       " 'is',\n",
       " 'are',\n",
       " 'was',\n",
       " 'were',\n",
       " 'be',\n",
       " 'been',\n",
       " 'being',\n",
       " 'have',\n",
       " 'has',\n",
       " 'had',\n",
       " 'having',\n",
       " 'do',\n",
       " 'does',\n",
       " 'did',\n",
       " 'doing',\n",
       " 'a',\n",
       " 'an',\n",
       " 'the',\n",
       " 'and',\n",
       " 'but',\n",
       " 'if',\n",
       " 'or',\n",
       " 'because',\n",
       " 'as',\n",
       " 'until',\n",
       " 'while',\n",
       " 'of',\n",
       " 'at',\n",
       " 'by',\n",
       " 'for',\n",
       " 'with',\n",
       " 'about',\n",
       " 'against',\n",
       " 'between',\n",
       " 'into',\n",
       " 'through',\n",
       " 'during',\n",
       " 'before',\n",
       " 'after',\n",
       " 'above',\n",
       " 'below',\n",
       " 'to',\n",
       " 'from',\n",
       " 'up',\n",
       " 'down',\n",
       " 'in',\n",
       " 'out',\n",
       " 'on',\n",
       " 'off',\n",
       " 'over',\n",
       " 'under',\n",
       " 'again',\n",
       " 'further',\n",
       " 'then',\n",
       " 'once',\n",
       " 'here',\n",
       " 'there',\n",
       " 'when',\n",
       " 'where',\n",
       " 'why',\n",
       " 'how',\n",
       " 'all',\n",
       " 'any',\n",
       " 'both',\n",
       " 'each',\n",
       " 'few',\n",
       " 'more',\n",
       " 'most',\n",
       " 'other',\n",
       " 'some',\n",
       " 'such',\n",
       " 'no',\n",
       " 'nor',\n",
       " 'not',\n",
       " 'only',\n",
       " 'own',\n",
       " 'same',\n",
       " 'so',\n",
       " 'than',\n",
       " 'too',\n",
       " 'very',\n",
       " 's',\n",
       " 't',\n",
       " 'can',\n",
       " 'will',\n",
       " 'just',\n",
       " 'don',\n",
       " \"don't\",\n",
       " 'should',\n",
       " \"should've\",\n",
       " 'now',\n",
       " 'd',\n",
       " 'll',\n",
       " 'm',\n",
       " 'o',\n",
       " 're',\n",
       " 've',\n",
       " 'y',\n",
       " 'ain',\n",
       " 'aren',\n",
       " \"aren't\",\n",
       " 'couldn',\n",
       " \"couldn't\",\n",
       " 'didn',\n",
       " \"didn't\",\n",
       " 'doesn',\n",
       " \"doesn't\",\n",
       " 'hadn',\n",
       " \"hadn't\",\n",
       " 'hasn',\n",
       " \"hasn't\",\n",
       " 'haven',\n",
       " \"haven't\",\n",
       " 'isn',\n",
       " \"isn't\",\n",
       " 'ma',\n",
       " 'mightn',\n",
       " \"mightn't\",\n",
       " 'mustn',\n",
       " \"mustn't\",\n",
       " 'needn',\n",
       " \"needn't\",\n",
       " 'shan',\n",
       " \"shan't\",\n",
       " 'shouldn',\n",
       " \"shouldn't\",\n",
       " 'wasn',\n",
       " \"wasn't\",\n",
       " 'weren',\n",
       " \"weren't\",\n",
       " 'won',\n",
       " \"won't\",\n",
       " 'wouldn',\n",
       " \"wouldn't\"]"
      ]
     },
     "execution_count": 23,
     "metadata": {},
     "output_type": "execute_result"
    }
   ],
   "source": [
    "stopwords.words('english')"
   ]
  },
  {
   "cell_type": "code",
   "execution_count": 24,
   "id": "5fcc10ca",
   "metadata": {},
   "outputs": [
    {
     "data": {
      "text/plain": [
       "179"
      ]
     },
     "execution_count": 24,
     "metadata": {},
     "output_type": "execute_result"
    }
   ],
   "source": [
    "len(stopwords.words('english'))"
   ]
  },
  {
   "cell_type": "code",
   "execution_count": 25,
   "id": "13a96c71",
   "metadata": {},
   "outputs": [
    {
     "data": {
      "text/plain": [
       "'a bench of justices a s bopanna and dipankar datta rejected the petition filed by saritha s nair who had moved the apex court against an october 31 2019 decision of the kerala high court by which her election petitions challenging the lok sabha polls in wayanad and ernakulam also were dismissedon november 2 2020 nairs plea challenging gandhis election was rejected by the top court for nonprosecutionlater an application seeking the restoration of the plea was filed in the apex courtwhen the matter came up for hearing before the court on friday the bench allowed the application for restoration the special leave petition is restored to its original number having heard counsel for the petitioner on merits we see no reason to interfere with the impugned order the special leave petition is accordingly dismissed the bench said in its order'"
      ]
     },
     "execution_count": 25,
     "metadata": {},
     "output_type": "execute_result"
    }
   ],
   "source": [
    "cleaned_text"
   ]
  },
  {
   "cell_type": "code",
   "execution_count": 26,
   "id": "5d837a87",
   "metadata": {},
   "outputs": [
    {
     "data": {
      "text/plain": [
       "['a',\n",
       " 'bench',\n",
       " 'of',\n",
       " 'justices',\n",
       " 'a',\n",
       " 's',\n",
       " 'bopanna',\n",
       " 'and',\n",
       " 'dipankar',\n",
       " 'datta',\n",
       " 'rejected',\n",
       " 'the',\n",
       " 'petition',\n",
       " 'filed',\n",
       " 'by',\n",
       " 'saritha',\n",
       " 's',\n",
       " 'nair',\n",
       " 'who',\n",
       " 'had',\n",
       " 'moved',\n",
       " 'the',\n",
       " 'apex',\n",
       " 'court',\n",
       " 'against',\n",
       " 'an',\n",
       " 'october',\n",
       " '31',\n",
       " '2019',\n",
       " 'decision',\n",
       " 'of',\n",
       " 'the',\n",
       " 'kerala',\n",
       " 'high',\n",
       " 'court',\n",
       " 'by',\n",
       " 'which',\n",
       " 'her',\n",
       " 'election',\n",
       " 'petitions',\n",
       " 'challenging',\n",
       " 'the',\n",
       " 'lok',\n",
       " 'sabha',\n",
       " 'polls',\n",
       " 'in',\n",
       " 'wayanad',\n",
       " 'and',\n",
       " 'ernakulam',\n",
       " 'also',\n",
       " 'were',\n",
       " 'dismissedon',\n",
       " 'november',\n",
       " '2',\n",
       " '2020',\n",
       " 'nairs',\n",
       " 'plea',\n",
       " 'challenging',\n",
       " 'gandhis',\n",
       " 'election',\n",
       " 'was',\n",
       " 'rejected',\n",
       " 'by',\n",
       " 'the',\n",
       " 'top',\n",
       " 'court',\n",
       " 'for',\n",
       " 'nonprosecutionlater',\n",
       " 'an',\n",
       " 'application',\n",
       " 'seeking',\n",
       " 'the',\n",
       " 'restoration',\n",
       " 'of',\n",
       " 'the',\n",
       " 'plea',\n",
       " 'was',\n",
       " 'filed',\n",
       " 'in',\n",
       " 'the',\n",
       " 'apex',\n",
       " 'courtwhen',\n",
       " 'the',\n",
       " 'matter',\n",
       " 'came',\n",
       " 'up',\n",
       " 'for',\n",
       " 'hearing',\n",
       " 'before',\n",
       " 'the',\n",
       " 'court',\n",
       " 'on',\n",
       " 'friday',\n",
       " 'the',\n",
       " 'bench',\n",
       " 'allowed',\n",
       " 'the',\n",
       " 'application',\n",
       " 'for',\n",
       " 'restoration',\n",
       " 'the',\n",
       " 'special',\n",
       " 'leave',\n",
       " 'petition',\n",
       " 'is',\n",
       " 'restored',\n",
       " 'to',\n",
       " 'its',\n",
       " 'original',\n",
       " 'number',\n",
       " 'having',\n",
       " 'heard',\n",
       " 'counsel',\n",
       " 'for',\n",
       " 'the',\n",
       " 'petitioner',\n",
       " 'on',\n",
       " 'merits',\n",
       " 'we',\n",
       " 'see',\n",
       " 'no',\n",
       " 'reason',\n",
       " 'to',\n",
       " 'interfere',\n",
       " 'with',\n",
       " 'the',\n",
       " 'impugned',\n",
       " 'order',\n",
       " 'the',\n",
       " 'special',\n",
       " 'leave',\n",
       " 'petition',\n",
       " 'is',\n",
       " 'accordingly',\n",
       " 'dismissed',\n",
       " 'the',\n",
       " 'bench',\n",
       " 'said',\n",
       " 'in',\n",
       " 'its',\n",
       " 'order']"
      ]
     },
     "execution_count": 26,
     "metadata": {},
     "output_type": "execute_result"
    }
   ],
   "source": [
    "cleaned_text = word_tokenize(cleaned_text)\n",
    "cleaned_text"
   ]
  },
  {
   "cell_type": "code",
   "execution_count": 27,
   "id": "e6839256",
   "metadata": {},
   "outputs": [
    {
     "data": {
      "text/plain": [
       "['bench',\n",
       " 'justices',\n",
       " 'bopanna',\n",
       " 'dipankar',\n",
       " 'datta',\n",
       " 'rejected',\n",
       " 'petition',\n",
       " 'filed',\n",
       " 'saritha',\n",
       " 'nair',\n",
       " 'moved',\n",
       " 'apex',\n",
       " 'court',\n",
       " 'october',\n",
       " '31',\n",
       " '2019',\n",
       " 'decision',\n",
       " 'kerala',\n",
       " 'high',\n",
       " 'court',\n",
       " 'election',\n",
       " 'petitions',\n",
       " 'challenging',\n",
       " 'lok',\n",
       " 'sabha',\n",
       " 'polls',\n",
       " 'wayanad',\n",
       " 'ernakulam',\n",
       " 'also',\n",
       " 'dismissedon',\n",
       " 'november',\n",
       " '2',\n",
       " '2020',\n",
       " 'nairs',\n",
       " 'plea',\n",
       " 'challenging',\n",
       " 'gandhis',\n",
       " 'election',\n",
       " 'rejected',\n",
       " 'top',\n",
       " 'court',\n",
       " 'nonprosecutionlater',\n",
       " 'application',\n",
       " 'seeking',\n",
       " 'restoration',\n",
       " 'plea',\n",
       " 'filed',\n",
       " 'apex',\n",
       " 'courtwhen',\n",
       " 'matter',\n",
       " 'came',\n",
       " 'hearing',\n",
       " 'court',\n",
       " 'friday',\n",
       " 'bench',\n",
       " 'allowed',\n",
       " 'application',\n",
       " 'restoration',\n",
       " 'special',\n",
       " 'leave',\n",
       " 'petition',\n",
       " 'restored',\n",
       " 'original',\n",
       " 'number',\n",
       " 'heard',\n",
       " 'counsel',\n",
       " 'petitioner',\n",
       " 'merits',\n",
       " 'see',\n",
       " 'reason',\n",
       " 'interfere',\n",
       " 'impugned',\n",
       " 'order',\n",
       " 'special',\n",
       " 'leave',\n",
       " 'petition',\n",
       " 'accordingly',\n",
       " 'dismissed',\n",
       " 'bench',\n",
       " 'said',\n",
       " 'order']"
      ]
     },
     "execution_count": 27,
     "metadata": {},
     "output_type": "execute_result"
    }
   ],
   "source": [
    "cleaned_stop_text = [i for i in cleaned_text if i not in stopwords.words('english')]\n",
    "cleaned_stop_text"
   ]
  },
  {
   "cell_type": "raw",
   "id": "3278411d",
   "metadata": {},
   "source": [
    "cleaned_stop_text1 = ' '.join(cleaned_stop_text)\n",
    "cleaned_stop_text1"
   ]
  },
  {
   "cell_type": "code",
   "execution_count": 29,
   "id": "cceb47fe",
   "metadata": {},
   "outputs": [
    {
     "data": {
      "text/plain": [
       "81"
      ]
     },
     "execution_count": 29,
     "metadata": {},
     "output_type": "execute_result"
    }
   ],
   "source": [
    "len(cleaned_stop_text)"
   ]
  },
  {
   "cell_type": "code",
   "execution_count": 30,
   "id": "86f45f6d",
   "metadata": {},
   "outputs": [],
   "source": [
    "## Stemming ->"
   ]
  },
  {
   "cell_type": "code",
   "execution_count": 31,
   "id": "45d55a32",
   "metadata": {},
   "outputs": [
    {
     "name": "stdout",
     "output_type": "stream",
     "text": [
      "care\n",
      "care\n",
      "care\n"
     ]
    }
   ],
   "source": [
    "a = ['care' , 'caring' , 'cared']\n",
    "from nltk.stem import PorterStemmer\n",
    "reg = PorterStemmer()\n",
    "for j in a:\n",
    "    print(reg.stem(j))\n",
    "    "
   ]
  },
  {
   "cell_type": "code",
   "execution_count": 32,
   "id": "d14eebd5",
   "metadata": {
    "scrolled": true
   },
   "outputs": [
    {
     "name": "stdout",
     "output_type": "stream",
     "text": [
      "original word : bench -----stemming words =  bench\n",
      "original word : justices -----stemming words =  justic\n",
      "original word : bopanna -----stemming words =  bopanna\n",
      "original word : dipankar -----stemming words =  dipankar\n",
      "original word : datta -----stemming words =  datta\n",
      "original word : rejected -----stemming words =  reject\n",
      "original word : petition -----stemming words =  petit\n",
      "original word : filed -----stemming words =  file\n",
      "original word : saritha -----stemming words =  saritha\n",
      "original word : nair -----stemming words =  nair\n",
      "original word : moved -----stemming words =  move\n",
      "original word : apex -----stemming words =  apex\n",
      "original word : court -----stemming words =  court\n",
      "original word : october -----stemming words =  octob\n",
      "original word : 31 -----stemming words =  31\n",
      "original word : 2019 -----stemming words =  2019\n",
      "original word : decision -----stemming words =  decis\n",
      "original word : kerala -----stemming words =  kerala\n",
      "original word : high -----stemming words =  high\n",
      "original word : court -----stemming words =  court\n",
      "original word : election -----stemming words =  elect\n",
      "original word : petitions -----stemming words =  petit\n",
      "original word : challenging -----stemming words =  challeng\n",
      "original word : lok -----stemming words =  lok\n",
      "original word : sabha -----stemming words =  sabha\n",
      "original word : polls -----stemming words =  poll\n",
      "original word : wayanad -----stemming words =  wayanad\n",
      "original word : ernakulam -----stemming words =  ernakulam\n",
      "original word : also -----stemming words =  also\n",
      "original word : dismissedon -----stemming words =  dismissedon\n",
      "original word : november -----stemming words =  novemb\n",
      "original word : 2 -----stemming words =  2\n",
      "original word : 2020 -----stemming words =  2020\n",
      "original word : nairs -----stemming words =  nair\n",
      "original word : plea -----stemming words =  plea\n",
      "original word : challenging -----stemming words =  challeng\n",
      "original word : gandhis -----stemming words =  gandhi\n",
      "original word : election -----stemming words =  elect\n",
      "original word : rejected -----stemming words =  reject\n",
      "original word : top -----stemming words =  top\n",
      "original word : court -----stemming words =  court\n",
      "original word : nonprosecutionlater -----stemming words =  nonprosecutionlat\n",
      "original word : application -----stemming words =  applic\n",
      "original word : seeking -----stemming words =  seek\n",
      "original word : restoration -----stemming words =  restor\n",
      "original word : plea -----stemming words =  plea\n",
      "original word : filed -----stemming words =  file\n",
      "original word : apex -----stemming words =  apex\n",
      "original word : courtwhen -----stemming words =  courtwhen\n",
      "original word : matter -----stemming words =  matter\n",
      "original word : came -----stemming words =  came\n",
      "original word : hearing -----stemming words =  hear\n",
      "original word : court -----stemming words =  court\n",
      "original word : friday -----stemming words =  friday\n",
      "original word : bench -----stemming words =  bench\n",
      "original word : allowed -----stemming words =  allow\n",
      "original word : application -----stemming words =  applic\n",
      "original word : restoration -----stemming words =  restor\n",
      "original word : special -----stemming words =  special\n",
      "original word : leave -----stemming words =  leav\n",
      "original word : petition -----stemming words =  petit\n",
      "original word : restored -----stemming words =  restor\n",
      "original word : original -----stemming words =  origin\n",
      "original word : number -----stemming words =  number\n",
      "original word : heard -----stemming words =  heard\n",
      "original word : counsel -----stemming words =  counsel\n",
      "original word : petitioner -----stemming words =  petition\n",
      "original word : merits -----stemming words =  merit\n",
      "original word : see -----stemming words =  see\n",
      "original word : reason -----stemming words =  reason\n",
      "original word : interfere -----stemming words =  interfer\n",
      "original word : impugned -----stemming words =  impugn\n",
      "original word : order -----stemming words =  order\n",
      "original word : special -----stemming words =  special\n",
      "original word : leave -----stemming words =  leav\n",
      "original word : petition -----stemming words =  petit\n",
      "original word : accordingly -----stemming words =  accordingli\n",
      "original word : dismissed -----stemming words =  dismiss\n",
      "original word : bench -----stemming words =  bench\n",
      "original word : said -----stemming words =  said\n",
      "original word : order -----stemming words =  order\n"
     ]
    }
   ],
   "source": [
    "for j in cleaned_stop_text:\n",
    "    print('original word :',j , '-----stemming words = ',reg.stem(j))"
   ]
  },
  {
   "cell_type": "code",
   "execution_count": 33,
   "id": "61e7f428",
   "metadata": {},
   "outputs": [],
   "source": [
    "## Lemmatization "
   ]
  },
  {
   "cell_type": "code",
   "execution_count": 34,
   "id": "c3869ea0",
   "metadata": {},
   "outputs": [],
   "source": [
    "from nltk.stem import WordNetLemmatizer\n"
   ]
  },
  {
   "cell_type": "code",
   "execution_count": 35,
   "id": "0f9ee346",
   "metadata": {},
   "outputs": [],
   "source": [
    "reg1 = WordNetLemmatizer()"
   ]
  },
  {
   "cell_type": "code",
   "execution_count": 36,
   "id": "f6ba4f7a",
   "metadata": {},
   "outputs": [
    {
     "name": "stdout",
     "output_type": "stream",
     "text": [
      "care\n",
      "caring\n",
      "cared\n"
     ]
    }
   ],
   "source": [
    "a = ['care' , 'caring' , 'cared']\n",
    "\n",
    "reg1 = WordNetLemmatizer()\n",
    "for j in a:\n",
    "    print(reg1.lemmatize(j))\n",
    "    "
   ]
  },
  {
   "cell_type": "code",
   "execution_count": 37,
   "id": "49bd66c9",
   "metadata": {},
   "outputs": [
    {
     "name": "stdout",
     "output_type": "stream",
     "text": [
      "original word : bench -----Lemmatization words =  bench\n",
      "original word : justices -----Lemmatization words =  justice\n",
      "original word : bopanna -----Lemmatization words =  bopanna\n",
      "original word : dipankar -----Lemmatization words =  dipankar\n",
      "original word : datta -----Lemmatization words =  datta\n",
      "original word : rejected -----Lemmatization words =  rejected\n",
      "original word : petition -----Lemmatization words =  petition\n",
      "original word : filed -----Lemmatization words =  filed\n",
      "original word : saritha -----Lemmatization words =  saritha\n",
      "original word : nair -----Lemmatization words =  nair\n",
      "original word : moved -----Lemmatization words =  moved\n",
      "original word : apex -----Lemmatization words =  apex\n",
      "original word : court -----Lemmatization words =  court\n",
      "original word : october -----Lemmatization words =  october\n",
      "original word : 31 -----Lemmatization words =  31\n",
      "original word : 2019 -----Lemmatization words =  2019\n",
      "original word : decision -----Lemmatization words =  decision\n",
      "original word : kerala -----Lemmatization words =  kerala\n",
      "original word : high -----Lemmatization words =  high\n",
      "original word : court -----Lemmatization words =  court\n",
      "original word : election -----Lemmatization words =  election\n",
      "original word : petitions -----Lemmatization words =  petition\n",
      "original word : challenging -----Lemmatization words =  challenging\n",
      "original word : lok -----Lemmatization words =  lok\n",
      "original word : sabha -----Lemmatization words =  sabha\n",
      "original word : polls -----Lemmatization words =  poll\n",
      "original word : wayanad -----Lemmatization words =  wayanad\n",
      "original word : ernakulam -----Lemmatization words =  ernakulam\n",
      "original word : also -----Lemmatization words =  also\n",
      "original word : dismissedon -----Lemmatization words =  dismissedon\n",
      "original word : november -----Lemmatization words =  november\n",
      "original word : 2 -----Lemmatization words =  2\n",
      "original word : 2020 -----Lemmatization words =  2020\n",
      "original word : nairs -----Lemmatization words =  nairs\n",
      "original word : plea -----Lemmatization words =  plea\n",
      "original word : challenging -----Lemmatization words =  challenging\n",
      "original word : gandhis -----Lemmatization words =  gandhi\n",
      "original word : election -----Lemmatization words =  election\n",
      "original word : rejected -----Lemmatization words =  rejected\n",
      "original word : top -----Lemmatization words =  top\n",
      "original word : court -----Lemmatization words =  court\n",
      "original word : nonprosecutionlater -----Lemmatization words =  nonprosecutionlater\n",
      "original word : application -----Lemmatization words =  application\n",
      "original word : seeking -----Lemmatization words =  seeking\n",
      "original word : restoration -----Lemmatization words =  restoration\n",
      "original word : plea -----Lemmatization words =  plea\n",
      "original word : filed -----Lemmatization words =  filed\n",
      "original word : apex -----Lemmatization words =  apex\n",
      "original word : courtwhen -----Lemmatization words =  courtwhen\n",
      "original word : matter -----Lemmatization words =  matter\n",
      "original word : came -----Lemmatization words =  came\n",
      "original word : hearing -----Lemmatization words =  hearing\n",
      "original word : court -----Lemmatization words =  court\n",
      "original word : friday -----Lemmatization words =  friday\n",
      "original word : bench -----Lemmatization words =  bench\n",
      "original word : allowed -----Lemmatization words =  allowed\n",
      "original word : application -----Lemmatization words =  application\n",
      "original word : restoration -----Lemmatization words =  restoration\n",
      "original word : special -----Lemmatization words =  special\n",
      "original word : leave -----Lemmatization words =  leave\n",
      "original word : petition -----Lemmatization words =  petition\n",
      "original word : restored -----Lemmatization words =  restored\n",
      "original word : original -----Lemmatization words =  original\n",
      "original word : number -----Lemmatization words =  number\n",
      "original word : heard -----Lemmatization words =  heard\n",
      "original word : counsel -----Lemmatization words =  counsel\n",
      "original word : petitioner -----Lemmatization words =  petitioner\n",
      "original word : merits -----Lemmatization words =  merit\n",
      "original word : see -----Lemmatization words =  see\n",
      "original word : reason -----Lemmatization words =  reason\n",
      "original word : interfere -----Lemmatization words =  interfere\n",
      "original word : impugned -----Lemmatization words =  impugned\n",
      "original word : order -----Lemmatization words =  order\n",
      "original word : special -----Lemmatization words =  special\n",
      "original word : leave -----Lemmatization words =  leave\n",
      "original word : petition -----Lemmatization words =  petition\n",
      "original word : accordingly -----Lemmatization words =  accordingly\n",
      "original word : dismissed -----Lemmatization words =  dismissed\n",
      "original word : bench -----Lemmatization words =  bench\n",
      "original word : said -----Lemmatization words =  said\n",
      "original word : order -----Lemmatization words =  order\n"
     ]
    }
   ],
   "source": [
    "for j in cleaned_stop_text:\n",
    "    print('original word :',j , '-----Lemmatization words = ',reg1.lemmatize(j))"
   ]
  },
  {
   "cell_type": "markdown",
   "id": "3f10ae1f",
   "metadata": {},
   "source": [
    "## converting text into numbers \n",
    "\n",
    "- Bag of words \n",
    "- TF - IDF = term frequency - Inverse document frequency"
   ]
  },
  {
   "cell_type": "code",
   "execution_count": 67,
   "id": "dc533a2f",
   "metadata": {},
   "outputs": [],
   "source": [
    "a = ['boy good',\n",
    "    'girl good',\n",
    "    'boy girl good']\n"
   ]
  },
  {
   "cell_type": "code",
   "execution_count": 68,
   "id": "d878f8f3",
   "metadata": {},
   "outputs": [
    {
     "data": {
      "text/plain": [
       "['boy good', 'girl good', 'boy girl good']"
      ]
     },
     "execution_count": 68,
     "metadata": {},
     "output_type": "execute_result"
    }
   ],
   "source": [
    "a"
   ]
  },
  {
   "cell_type": "code",
   "execution_count": 69,
   "id": "11b08245",
   "metadata": {},
   "outputs": [],
   "source": [
    "from sklearn.feature_extraction.text import CountVectorizer"
   ]
  },
  {
   "cell_type": "code",
   "execution_count": 70,
   "id": "33c98ee2",
   "metadata": {},
   "outputs": [],
   "source": [
    "reg = CountVectorizer()\n",
    "sol = reg.fit_transform(a)\n"
   ]
  },
  {
   "cell_type": "code",
   "execution_count": 71,
   "id": "3d88e8d3",
   "metadata": {},
   "outputs": [
    {
     "data": {
      "text/plain": [
       "{'boy': 0, 'good': 2, 'girl': 1}"
      ]
     },
     "execution_count": 71,
     "metadata": {},
     "output_type": "execute_result"
    }
   ],
   "source": [
    "reg.vocabulary_  # based of frequency we got column labels \n"
   ]
  },
  {
   "cell_type": "code",
   "execution_count": 72,
   "id": "cf66717e",
   "metadata": {},
   "outputs": [
    {
     "data": {
      "text/plain": [
       "array([[1, 0, 1],\n",
       "       [0, 1, 1],\n",
       "       [1, 1, 1]], dtype=int64)"
      ]
     },
     "execution_count": 72,
     "metadata": {},
     "output_type": "execute_result"
    }
   ],
   "source": [
    "sol.toarray()"
   ]
  },
  {
   "cell_type": "code",
   "execution_count": 73,
   "id": "352dfaa0",
   "metadata": {},
   "outputs": [
    {
     "data": {
      "text/plain": [
       "['boy good', 'girl good', 'boy girl good']"
      ]
     },
     "execution_count": 73,
     "metadata": {},
     "output_type": "execute_result"
    }
   ],
   "source": [
    "a"
   ]
  },
  {
   "cell_type": "code",
   "execution_count": 74,
   "id": "42a07f82",
   "metadata": {},
   "outputs": [],
   "source": [
    "## Drawbacks -> sparse matrix \n",
    "## importance -> importance will not have "
   ]
  },
  {
   "cell_type": "markdown",
   "id": "d3425b69",
   "metadata": {},
   "source": [
    "#### TF - IDF (Term Frequency and Inverse Document Frequency)\n",
    "\n"
   ]
  },
  {
   "cell_type": "code",
   "execution_count": 76,
   "id": "3832e09e",
   "metadata": {},
   "outputs": [],
   "source": [
    "from sklearn.feature_extraction.text import TfidfVectorizer\n"
   ]
  },
  {
   "cell_type": "code",
   "execution_count": 77,
   "id": "9a8007da",
   "metadata": {},
   "outputs": [],
   "source": [
    "reg = TfidfVectorizer()"
   ]
  },
  {
   "cell_type": "code",
   "execution_count": 80,
   "id": "48083f62",
   "metadata": {},
   "outputs": [],
   "source": [
    "sol = reg.fit_transform(a)\n"
   ]
  },
  {
   "cell_type": "code",
   "execution_count": 79,
   "id": "1507c015",
   "metadata": {},
   "outputs": [
    {
     "data": {
      "text/plain": [
       "{'boy': 0, 'good': 2, 'girl': 1}"
      ]
     },
     "execution_count": 79,
     "metadata": {},
     "output_type": "execute_result"
    }
   ],
   "source": [
    "reg.vocabulary_"
   ]
  },
  {
   "cell_type": "code",
   "execution_count": 81,
   "id": "f345a0a7",
   "metadata": {},
   "outputs": [
    {
     "data": {
      "text/plain": [
       "<3x3 sparse matrix of type '<class 'numpy.float64'>'\n",
       "\twith 7 stored elements in Compressed Sparse Row format>"
      ]
     },
     "execution_count": 81,
     "metadata": {},
     "output_type": "execute_result"
    }
   ],
   "source": [
    "sol"
   ]
  },
  {
   "cell_type": "code",
   "execution_count": 82,
   "id": "6fc8a756",
   "metadata": {},
   "outputs": [
    {
     "data": {
      "text/plain": [
       "array([[0.78980693, 0.        , 0.61335554],\n",
       "       [0.        , 0.78980693, 0.61335554],\n",
       "       [0.61980538, 0.61980538, 0.48133417]])"
      ]
     },
     "execution_count": 82,
     "metadata": {},
     "output_type": "execute_result"
    }
   ],
   "source": [
    "sol.toarray()"
   ]
  },
  {
   "cell_type": "code",
   "execution_count": null,
   "id": "a163b644",
   "metadata": {},
   "outputs": [],
   "source": []
  }
 ],
 "metadata": {
  "kernelspec": {
   "display_name": "Python 3 (ipykernel)",
   "language": "python",
   "name": "python3"
  },
  "language_info": {
   "codemirror_mode": {
    "name": "ipython",
    "version": 3
   },
   "file_extension": ".py",
   "mimetype": "text/x-python",
   "name": "python",
   "nbconvert_exporter": "python",
   "pygments_lexer": "ipython3",
   "version": "3.9.15"
  }
 },
 "nbformat": 4,
 "nbformat_minor": 5
}
